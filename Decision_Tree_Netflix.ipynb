{
  "nbformat": 4,
  "nbformat_minor": 0,
  "metadata": {
    "colab": {
      "name": "Decision Tree Netflix.ipynb",
      "provenance": [],
      "authorship_tag": "ABX9TyMbYELwTaSB5CRudwP9CuoO",
      "include_colab_link": true
    },
    "kernelspec": {
      "name": "python3",
      "display_name": "Python 3"
    },
    "language_info": {
      "name": "python"
    }
  },
  "cells": [
    {
      "cell_type": "markdown",
      "metadata": {
        "id": "view-in-github",
        "colab_type": "text"
      },
      "source": [
        "<a href=\"https://colab.research.google.com/github/Saadahm/Saadahm1/blob/main/Decision_Tree_Netflix.ipynb\" target=\"_parent\"><img src=\"https://colab.research.google.com/assets/colab-badge.svg\" alt=\"Open In Colab\"/></a>"
      ]
    },
    {
      "cell_type": "code",
      "metadata": {
        "id": "KeqGn3h9dyoG"
      },
      "source": [
        "import pandas as pd\n",
        "import numpy as np\n",
        "import matplotlib.pyplot as plt\n",
        "df=pd.read_csv('NFLX.csv')"
      ],
      "execution_count": 23,
      "outputs": []
    },
    {
      "cell_type": "code",
      "metadata": {
        "colab": {
          "base_uri": "https://localhost:8080/",
          "height": 204
        },
        "id": "TJo0sNapePuy",
        "outputId": "5f30b11b-9096-4a1a-eece-a3cde51a4e99"
      },
      "source": [
        "df.head()"
      ],
      "execution_count": 24,
      "outputs": [
        {
          "output_type": "execute_result",
          "data": {
            "text/html": [
              "<div>\n",
              "<style scoped>\n",
              "    .dataframe tbody tr th:only-of-type {\n",
              "        vertical-align: middle;\n",
              "    }\n",
              "\n",
              "    .dataframe tbody tr th {\n",
              "        vertical-align: top;\n",
              "    }\n",
              "\n",
              "    .dataframe thead th {\n",
              "        text-align: right;\n",
              "    }\n",
              "</style>\n",
              "<table border=\"1\" class=\"dataframe\">\n",
              "  <thead>\n",
              "    <tr style=\"text-align: right;\">\n",
              "      <th></th>\n",
              "      <th>Date</th>\n",
              "      <th>Open</th>\n",
              "      <th>High</th>\n",
              "      <th>Low</th>\n",
              "      <th>Close</th>\n",
              "      <th>Adj Close</th>\n",
              "      <th>Volume</th>\n",
              "    </tr>\n",
              "  </thead>\n",
              "  <tbody>\n",
              "    <tr>\n",
              "      <th>0</th>\n",
              "      <td>2011-06-13</td>\n",
              "      <td>37.111427</td>\n",
              "      <td>37.571430</td>\n",
              "      <td>34.894287</td>\n",
              "      <td>35.095715</td>\n",
              "      <td>35.095715</td>\n",
              "      <td>134741600</td>\n",
              "    </tr>\n",
              "    <tr>\n",
              "      <th>1</th>\n",
              "      <td>2011-06-20</td>\n",
              "      <td>34.551430</td>\n",
              "      <td>37.264286</td>\n",
              "      <td>34.302856</td>\n",
              "      <td>36.708572</td>\n",
              "      <td>36.708572</td>\n",
              "      <td>133948500</td>\n",
              "    </tr>\n",
              "    <tr>\n",
              "      <th>2</th>\n",
              "      <td>2011-06-27</td>\n",
              "      <td>36.414288</td>\n",
              "      <td>38.391430</td>\n",
              "      <td>35.948570</td>\n",
              "      <td>38.284286</td>\n",
              "      <td>38.284286</td>\n",
              "      <td>103798100</td>\n",
              "    </tr>\n",
              "    <tr>\n",
              "      <th>3</th>\n",
              "      <td>2011-07-04</td>\n",
              "      <td>39.428570</td>\n",
              "      <td>42.478573</td>\n",
              "      <td>39.387142</td>\n",
              "      <td>42.162857</td>\n",
              "      <td>42.162857</td>\n",
              "      <td>143000200</td>\n",
              "    </tr>\n",
              "    <tr>\n",
              "      <th>4</th>\n",
              "      <td>2011-07-11</td>\n",
              "      <td>42.118572</td>\n",
              "      <td>43.541428</td>\n",
              "      <td>40.231430</td>\n",
              "      <td>40.990002</td>\n",
              "      <td>40.990002</td>\n",
              "      <td>191842700</td>\n",
              "    </tr>\n",
              "  </tbody>\n",
              "</table>\n",
              "</div>"
            ],
            "text/plain": [
              "         Date       Open       High        Low      Close  Adj Close     Volume\n",
              "0  2011-06-13  37.111427  37.571430  34.894287  35.095715  35.095715  134741600\n",
              "1  2011-06-20  34.551430  37.264286  34.302856  36.708572  36.708572  133948500\n",
              "2  2011-06-27  36.414288  38.391430  35.948570  38.284286  38.284286  103798100\n",
              "3  2011-07-04  39.428570  42.478573  39.387142  42.162857  42.162857  143000200\n",
              "4  2011-07-11  42.118572  43.541428  40.231430  40.990002  40.990002  191842700"
            ]
          },
          "metadata": {
            "tags": []
          },
          "execution_count": 24
        }
      ]
    },
    {
      "cell_type": "code",
      "metadata": {
        "colab": {
          "base_uri": "https://localhost:8080/"
        },
        "id": "iZDT2-ukeRmw",
        "outputId": "0f4dd1ca-7e5c-4ec7-e2f2-31e58a047c34"
      },
      "source": [
        "df.describe"
      ],
      "execution_count": 25,
      "outputs": [
        {
          "output_type": "execute_result",
          "data": {
            "text/plain": [
              "<bound method NDFrame.describe of            Date        Open        High  ...       Close   Adj Close     Volume\n",
              "0    2011-06-13   37.111427   37.571430  ...   35.095715   35.095715  134741600\n",
              "1    2011-06-20   34.551430   37.264286  ...   36.708572   36.708572  133948500\n",
              "2    2011-06-27   36.414288   38.391430  ...   38.284286   38.284286  103798100\n",
              "3    2011-07-04   39.428570   42.478573  ...   42.162857   42.162857  143000200\n",
              "4    2011-07-11   42.118572   43.541428  ...   40.990002   40.990002  191842700\n",
              "..          ...         ...         ...  ...         ...         ...        ...\n",
              "518  2021-05-17  485.589996  505.399994  ...  497.890015  497.890015   15449700\n",
              "519  2021-05-24  501.049988  511.760010  ...  502.809998  502.809998   13741500\n",
              "520  2021-05-31  504.010010  505.410004  ...  494.739990  494.739990   11790300\n",
              "521  2021-06-07  492.920013  498.820007  ...  488.769989  488.769989   15725200\n",
              "522  2021-06-11  490.000000  491.399994  ...  488.769989  488.769989    3123969\n",
              "\n",
              "[523 rows x 7 columns]>"
            ]
          },
          "metadata": {
            "tags": []
          },
          "execution_count": 25
        }
      ]
    },
    {
      "cell_type": "code",
      "metadata": {
        "colab": {
          "base_uri": "https://localhost:8080/",
          "height": 204
        },
        "id": "4jiCRKOye_07",
        "outputId": "c4e8c7c8-fe9e-46d2-f4dd-fb8c2ffb0633"
      },
      "source": [
        "df.head()"
      ],
      "execution_count": 26,
      "outputs": [
        {
          "output_type": "execute_result",
          "data": {
            "text/html": [
              "<div>\n",
              "<style scoped>\n",
              "    .dataframe tbody tr th:only-of-type {\n",
              "        vertical-align: middle;\n",
              "    }\n",
              "\n",
              "    .dataframe tbody tr th {\n",
              "        vertical-align: top;\n",
              "    }\n",
              "\n",
              "    .dataframe thead th {\n",
              "        text-align: right;\n",
              "    }\n",
              "</style>\n",
              "<table border=\"1\" class=\"dataframe\">\n",
              "  <thead>\n",
              "    <tr style=\"text-align: right;\">\n",
              "      <th></th>\n",
              "      <th>Date</th>\n",
              "      <th>Open</th>\n",
              "      <th>High</th>\n",
              "      <th>Low</th>\n",
              "      <th>Close</th>\n",
              "      <th>Adj Close</th>\n",
              "      <th>Volume</th>\n",
              "    </tr>\n",
              "  </thead>\n",
              "  <tbody>\n",
              "    <tr>\n",
              "      <th>0</th>\n",
              "      <td>2011-06-13</td>\n",
              "      <td>37.111427</td>\n",
              "      <td>37.571430</td>\n",
              "      <td>34.894287</td>\n",
              "      <td>35.095715</td>\n",
              "      <td>35.095715</td>\n",
              "      <td>134741600</td>\n",
              "    </tr>\n",
              "    <tr>\n",
              "      <th>1</th>\n",
              "      <td>2011-06-20</td>\n",
              "      <td>34.551430</td>\n",
              "      <td>37.264286</td>\n",
              "      <td>34.302856</td>\n",
              "      <td>36.708572</td>\n",
              "      <td>36.708572</td>\n",
              "      <td>133948500</td>\n",
              "    </tr>\n",
              "    <tr>\n",
              "      <th>2</th>\n",
              "      <td>2011-06-27</td>\n",
              "      <td>36.414288</td>\n",
              "      <td>38.391430</td>\n",
              "      <td>35.948570</td>\n",
              "      <td>38.284286</td>\n",
              "      <td>38.284286</td>\n",
              "      <td>103798100</td>\n",
              "    </tr>\n",
              "    <tr>\n",
              "      <th>3</th>\n",
              "      <td>2011-07-04</td>\n",
              "      <td>39.428570</td>\n",
              "      <td>42.478573</td>\n",
              "      <td>39.387142</td>\n",
              "      <td>42.162857</td>\n",
              "      <td>42.162857</td>\n",
              "      <td>143000200</td>\n",
              "    </tr>\n",
              "    <tr>\n",
              "      <th>4</th>\n",
              "      <td>2011-07-11</td>\n",
              "      <td>42.118572</td>\n",
              "      <td>43.541428</td>\n",
              "      <td>40.231430</td>\n",
              "      <td>40.990002</td>\n",
              "      <td>40.990002</td>\n",
              "      <td>191842700</td>\n",
              "    </tr>\n",
              "  </tbody>\n",
              "</table>\n",
              "</div>"
            ],
            "text/plain": [
              "         Date       Open       High        Low      Close  Adj Close     Volume\n",
              "0  2011-06-13  37.111427  37.571430  34.894287  35.095715  35.095715  134741600\n",
              "1  2011-06-20  34.551430  37.264286  34.302856  36.708572  36.708572  133948500\n",
              "2  2011-06-27  36.414288  38.391430  35.948570  38.284286  38.284286  103798100\n",
              "3  2011-07-04  39.428570  42.478573  39.387142  42.162857  42.162857  143000200\n",
              "4  2011-07-11  42.118572  43.541428  40.231430  40.990002  40.990002  191842700"
            ]
          },
          "metadata": {
            "tags": []
          },
          "execution_count": 26
        }
      ]
    },
    {
      "cell_type": "code",
      "metadata": {
        "id": "8yAYcFZ7jrhd"
      },
      "source": [
        "df['Date']=pd.to_datetime(df.Date)\n"
      ],
      "execution_count": 27,
      "outputs": []
    },
    {
      "cell_type": "code",
      "metadata": {
        "id": "fBi5anHuheCJ"
      },
      "source": [
        "df=df.drop(columns=['Date'])"
      ],
      "execution_count": 28,
      "outputs": []
    },
    {
      "cell_type": "code",
      "metadata": {
        "id": "QWBy_t5xf6V9"
      },
      "source": [
        "from sklearn.model_selection import train_test_split\n",
        "from sklearn import metrics\n",
        "from sklearn.metrics import confusion_matrix\n",
        "from sklearn.metrics import f1_score\n",
        "from sklearn.metrics import accuracy_score\n"
      ],
      "execution_count": 29,
      "outputs": []
    },
    {
      "cell_type": "code",
      "metadata": {
        "id": "u0UI9iCEfdHC"
      },
      "source": [
        "x=df.iloc[:,0:df.shape[1]-1].values\n",
        "y=df.iloc[:,df.shape[1]-1].values"
      ],
      "execution_count": 30,
      "outputs": []
    },
    {
      "cell_type": "code",
      "metadata": {
        "id": "N2fL73pLfdOZ"
      },
      "source": [
        "x_train,x_test,y_train,y_test=train_test_split(x,y,test_size=0.2,random_state=0)"
      ],
      "execution_count": 31,
      "outputs": []
    },
    {
      "cell_type": "code",
      "metadata": {
        "id": "g7O7BC3tgWYR"
      },
      "source": [
        "from sklearn.tree import DecisionTreeClassifier"
      ],
      "execution_count": 32,
      "outputs": []
    },
    {
      "cell_type": "code",
      "metadata": {
        "id": "qwi72oBfij2o"
      },
      "source": [
        ""
      ],
      "execution_count": 12,
      "outputs": []
    },
    {
      "cell_type": "code",
      "metadata": {
        "id": "bSmOxafKjegp"
      },
      "source": [
        "clf = DecisionTreeClassifier(random_state=0)"
      ],
      "execution_count": 33,
      "outputs": []
    },
    {
      "cell_type": "code",
      "metadata": {
        "colab": {
          "base_uri": "https://localhost:8080/"
        },
        "id": "Mub5ft2CgCww",
        "outputId": "adcb8f60-e5a8-4251-c4b7-7c4a0d2fc5ed"
      },
      "source": [
        "clf.fit(x_train,y_train)\n",
        "#data['Date'] = pd.to_numeric(pd.to_datetime(data['Date']))\n"
      ],
      "execution_count": 34,
      "outputs": [
        {
          "output_type": "execute_result",
          "data": {
            "text/plain": [
              "DecisionTreeClassifier(ccp_alpha=0.0, class_weight=None, criterion='gini',\n",
              "                       max_depth=None, max_features=None, max_leaf_nodes=None,\n",
              "                       min_impurity_decrease=0.0, min_impurity_split=None,\n",
              "                       min_samples_leaf=1, min_samples_split=2,\n",
              "                       min_weight_fraction_leaf=0.0, presort='deprecated',\n",
              "                       random_state=0, splitter='best')"
            ]
          },
          "metadata": {
            "tags": []
          },
          "execution_count": 34
        }
      ]
    },
    {
      "cell_type": "code",
      "metadata": {
        "id": "3QuHmnSOKgFZ"
      },
      "source": [
        "y_pred=clf.predict(x_test)"
      ],
      "execution_count": 35,
      "outputs": []
    },
    {
      "cell_type": "code",
      "metadata": {
        "colab": {
          "base_uri": "https://localhost:8080/"
        },
        "id": "7IuTl33gKwYN",
        "outputId": "cf8ec15f-c54e-4aaa-cefe-770f4648d6c9"
      },
      "source": [
        "print(\"Accuracy is: \", metrics.accuracy_score(y_test,y_pred))"
      ],
      "execution_count": 16,
      "outputs": [
        {
          "output_type": "stream",
          "text": [
            "Accuracy is:  0.0\n"
          ],
          "name": "stdout"
        }
      ]
    },
    {
      "cell_type": "code",
      "metadata": {
        "colab": {
          "base_uri": "https://localhost:8080/"
        },
        "id": "PNOkC_o9LA3d",
        "outputId": "d9f20103-9878-4286-db94-6dfcf4f17d1d"
      },
      "source": [
        "y_pred[0:]"
      ],
      "execution_count": 36,
      "outputs": [
        {
          "output_type": "execute_result",
          "data": {
            "text/plain": [
              "array([240534000,  83183800,  61912200, 117409900, 103798100,  30886700,\n",
              "       104098400,  27515600, 200309200,  42726100,  48734700, 114963000,\n",
              "       179586400,  59732400,  49200100,  26443600,  57889800,  38774200,\n",
              "        79529400,  85224100,  53706000,  85048600,  56987700, 123846800,\n",
              "       170685900,  59687000,  44558400,  27137700,  52025400,  18501700,\n",
              "        84739900, 163285500,  45411300,  37744000,  48061400,  27515600,\n",
              "        18485600,  62808100, 155309700,  48381200,  29850500,  65245600,\n",
              "       121976400,  23260700,  70234600, 166354300,  23504400,  57437100,\n",
              "        59732400, 713695500,  23412000,  58978500,  16185200,  25902900,\n",
              "        32986500,  48834800,  36074000,  59732400,  45391500,  19584800,\n",
              "        59687000,  31437300,  28985100,  86978500,  36074000,  15725200,\n",
              "        65245600,  64401400, 121387000,  23260700,  59687000,  34006200,\n",
              "        62852700,  36127000,  59488100, 124961900,  90004700,  57687500,\n",
              "        45391500,  62229400, 121387000,  41110300,  48834800,  58978500,\n",
              "        53989800,  37666800,  97806100,  29729900,  94270900,  97978300,\n",
              "        41110300,  33333400,  30886700, 153364400, 157070900,  24901900,\n",
              "       134741600,  13189800,  37666800,  49239600,  31953100, 117409900,\n",
              "        23260700,  53888800,  29850500])"
            ]
          },
          "metadata": {
            "tags": []
          },
          "execution_count": 36
        }
      ]
    },
    {
      "cell_type": "code",
      "metadata": {
        "colab": {
          "base_uri": "https://localhost:8080/"
        },
        "id": "FfSw0NVqLN0_",
        "outputId": "db9e7e02-3c55-4fff-8ab6-897b988d11fe"
      },
      "source": [
        "print(clf.score(x_test,y_test))"
      ],
      "execution_count": 37,
      "outputs": [
        {
          "output_type": "stream",
          "text": [
            "0.0\n"
          ],
          "name": "stdout"
        }
      ]
    },
    {
      "cell_type": "code",
      "metadata": {
        "colab": {
          "base_uri": "https://localhost:8080/"
        },
        "id": "EhCd__faLdk3",
        "outputId": "2eba6569-5316-475d-ba43-272392768b10"
      },
      "source": [
        "tree_predictions=clf.predict(x_test)\n",
        "print(tree_predictions)"
      ],
      "execution_count": 38,
      "outputs": [
        {
          "output_type": "stream",
          "text": [
            "[240534000  83183800  61912200 117409900 103798100  30886700 104098400\n",
            "  27515600 200309200  42726100  48734700 114963000 179586400  59732400\n",
            "  49200100  26443600  57889800  38774200  79529400  85224100  53706000\n",
            "  85048600  56987700 123846800 170685900  59687000  44558400  27137700\n",
            "  52025400  18501700  84739900 163285500  45411300  37744000  48061400\n",
            "  27515600  18485600  62808100 155309700  48381200  29850500  65245600\n",
            " 121976400  23260700  70234600 166354300  23504400  57437100  59732400\n",
            " 713695500  23412000  58978500  16185200  25902900  32986500  48834800\n",
            "  36074000  59732400  45391500  19584800  59687000  31437300  28985100\n",
            "  86978500  36074000  15725200  65245600  64401400 121387000  23260700\n",
            "  59687000  34006200  62852700  36127000  59488100 124961900  90004700\n",
            "  57687500  45391500  62229400 121387000  41110300  48834800  58978500\n",
            "  53989800  37666800  97806100  29729900  94270900  97978300  41110300\n",
            "  33333400  30886700 153364400 157070900  24901900 134741600  13189800\n",
            "  37666800  49239600  31953100 117409900  23260700  53888800  29850500]\n"
          ],
          "name": "stdout"
        }
      ]
    }
  ]
}