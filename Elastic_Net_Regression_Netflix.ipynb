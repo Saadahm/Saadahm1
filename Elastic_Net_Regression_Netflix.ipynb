{
  "nbformat": 4,
  "nbformat_minor": 0,
  "metadata": {
    "colab": {
      "name": "Elastic_Net_Regression_Netflix.ipynb",
      "provenance": [],
      "include_colab_link": true
    },
    "kernelspec": {
      "name": "python3",
      "display_name": "Python 3"
    },
    "language_info": {
      "name": "python"
    }
  },
  "cells": [
    {
      "cell_type": "markdown",
      "metadata": {
        "id": "view-in-github",
        "colab_type": "text"
      },
      "source": [
        "<a href=\"https://colab.research.google.com/github/Saadahm/Saadahm1/blob/main/Elastic_Net_Regression_Netflix.ipynb\" target=\"_parent\"><img src=\"https://colab.research.google.com/assets/colab-badge.svg\" alt=\"Open In Colab\"/></a>"
      ]
    },
    {
      "cell_type": "code",
      "metadata": {
        "id": "4H6vrPYZLowo"
      },
      "source": [
        "from sklearn.model_selection import train_test_split\n",
        "from sklearn.linear_model import LinearRegression\n",
        "from sklearn import metrics\n"
      ],
      "execution_count": 31,
      "outputs": []
    },
    {
      "cell_type": "code",
      "metadata": {
        "id": "3nlZkJn_I1X3"
      },
      "source": [
        "import pandas as pd\n",
        "import numpy as np\n",
        "import matplotlib.pyplot as plt\n",
        "df=pd.read_csv('NFLX.csv')"
      ],
      "execution_count": 32,
      "outputs": []
    },
    {
      "cell_type": "code",
      "metadata": {
        "colab": {
          "base_uri": "https://localhost:8080/",
          "height": 297
        },
        "id": "leS7AZ7MMJmh",
        "outputId": "498f3b34-97bb-4097-f58f-904644c4c578"
      },
      "source": [
        "df.describe()"
      ],
      "execution_count": 33,
      "outputs": [
        {
          "output_type": "execute_result",
          "data": {
            "text/html": [
              "<div>\n",
              "<style scoped>\n",
              "    .dataframe tbody tr th:only-of-type {\n",
              "        vertical-align: middle;\n",
              "    }\n",
              "\n",
              "    .dataframe tbody tr th {\n",
              "        vertical-align: top;\n",
              "    }\n",
              "\n",
              "    .dataframe thead th {\n",
              "        text-align: right;\n",
              "    }\n",
              "</style>\n",
              "<table border=\"1\" class=\"dataframe\">\n",
              "  <thead>\n",
              "    <tr style=\"text-align: right;\">\n",
              "      <th></th>\n",
              "      <th>Open</th>\n",
              "      <th>High</th>\n",
              "      <th>Low</th>\n",
              "      <th>Close</th>\n",
              "      <th>Adj Close</th>\n",
              "      <th>Volume</th>\n",
              "    </tr>\n",
              "  </thead>\n",
              "  <tbody>\n",
              "    <tr>\n",
              "      <th>count</th>\n",
              "      <td>523.000000</td>\n",
              "      <td>523.000000</td>\n",
              "      <td>523.000000</td>\n",
              "      <td>523.000000</td>\n",
              "      <td>523.000000</td>\n",
              "      <td>5.230000e+02</td>\n",
              "    </tr>\n",
              "    <tr>\n",
              "      <th>mean</th>\n",
              "      <td>180.040778</td>\n",
              "      <td>187.655279</td>\n",
              "      <td>173.532019</td>\n",
              "      <td>180.929674</td>\n",
              "      <td>180.929674</td>\n",
              "      <td>8.734732e+07</td>\n",
              "    </tr>\n",
              "    <tr>\n",
              "      <th>std</th>\n",
              "      <td>162.861814</td>\n",
              "      <td>169.513468</td>\n",
              "      <td>157.218526</td>\n",
              "      <td>163.353438</td>\n",
              "      <td>163.353438</td>\n",
              "      <td>8.678611e+07</td>\n",
              "    </tr>\n",
              "    <tr>\n",
              "      <th>min</th>\n",
              "      <td>7.791429</td>\n",
              "      <td>8.262857</td>\n",
              "      <td>7.544286</td>\n",
              "      <td>7.701429</td>\n",
              "      <td>7.701429</td>\n",
              "      <td>3.123969e+06</td>\n",
              "    </tr>\n",
              "    <tr>\n",
              "      <th>25%</th>\n",
              "      <td>47.545714</td>\n",
              "      <td>49.742143</td>\n",
              "      <td>45.621429</td>\n",
              "      <td>47.712857</td>\n",
              "      <td>47.712857</td>\n",
              "      <td>3.264995e+07</td>\n",
              "    </tr>\n",
              "    <tr>\n",
              "      <th>50%</th>\n",
              "      <td>107.480003</td>\n",
              "      <td>115.419998</td>\n",
              "      <td>101.209999</td>\n",
              "      <td>108.379997</td>\n",
              "      <td>108.379997</td>\n",
              "      <td>6.049690e+07</td>\n",
              "    </tr>\n",
              "    <tr>\n",
              "      <th>75%</th>\n",
              "      <td>318.989990</td>\n",
              "      <td>336.199997</td>\n",
              "      <td>305.770005</td>\n",
              "      <td>325.039994</td>\n",
              "      <td>325.039994</td>\n",
              "      <td>1.139114e+08</td>\n",
              "    </tr>\n",
              "    <tr>\n",
              "      <th>max</th>\n",
              "      <td>567.979980</td>\n",
              "      <td>593.289978</td>\n",
              "      <td>543.000000</td>\n",
              "      <td>565.169983</td>\n",
              "      <td>565.169983</td>\n",
              "      <td>7.136955e+08</td>\n",
              "    </tr>\n",
              "  </tbody>\n",
              "</table>\n",
              "</div>"
            ],
            "text/plain": [
              "             Open        High         Low       Close   Adj Close        Volume\n",
              "count  523.000000  523.000000  523.000000  523.000000  523.000000  5.230000e+02\n",
              "mean   180.040778  187.655279  173.532019  180.929674  180.929674  8.734732e+07\n",
              "std    162.861814  169.513468  157.218526  163.353438  163.353438  8.678611e+07\n",
              "min      7.791429    8.262857    7.544286    7.701429    7.701429  3.123969e+06\n",
              "25%     47.545714   49.742143   45.621429   47.712857   47.712857  3.264995e+07\n",
              "50%    107.480003  115.419998  101.209999  108.379997  108.379997  6.049690e+07\n",
              "75%    318.989990  336.199997  305.770005  325.039994  325.039994  1.139114e+08\n",
              "max    567.979980  593.289978  543.000000  565.169983  565.169983  7.136955e+08"
            ]
          },
          "metadata": {
            "tags": []
          },
          "execution_count": 33
        }
      ]
    },
    {
      "cell_type": "code",
      "metadata": {
        "id": "mE0sViTIMqi1"
      },
      "source": [
        "df['Date']=pd.to_datetime(df.Date)"
      ],
      "execution_count": 34,
      "outputs": []
    },
    {
      "cell_type": "code",
      "metadata": {
        "colab": {
          "base_uri": "https://localhost:8080/"
        },
        "id": "5t5g198NM_wc",
        "outputId": "c561a2ca-a582-410e-9f96-35cfa90adf7a"
      },
      "source": [
        "df.shape"
      ],
      "execution_count": 35,
      "outputs": [
        {
          "output_type": "execute_result",
          "data": {
            "text/plain": [
              "(523, 7)"
            ]
          },
          "metadata": {
            "tags": []
          },
          "execution_count": 35
        }
      ]
    },
    {
      "cell_type": "code",
      "metadata": {
        "id": "KCV5azhSNEw5"
      },
      "source": [
        "df.drop('Adj Close',axis=1,inplace = True)"
      ],
      "execution_count": 36,
      "outputs": []
    },
    {
      "cell_type": "code",
      "metadata": {
        "colab": {
          "base_uri": "https://localhost:8080/",
          "height": 204
        },
        "id": "mFBu7cAZNa2Z",
        "outputId": "ece39dff-acd3-49af-848f-c55f68c79917"
      },
      "source": [
        "df.head()"
      ],
      "execution_count": 37,
      "outputs": [
        {
          "output_type": "execute_result",
          "data": {
            "text/html": [
              "<div>\n",
              "<style scoped>\n",
              "    .dataframe tbody tr th:only-of-type {\n",
              "        vertical-align: middle;\n",
              "    }\n",
              "\n",
              "    .dataframe tbody tr th {\n",
              "        vertical-align: top;\n",
              "    }\n",
              "\n",
              "    .dataframe thead th {\n",
              "        text-align: right;\n",
              "    }\n",
              "</style>\n",
              "<table border=\"1\" class=\"dataframe\">\n",
              "  <thead>\n",
              "    <tr style=\"text-align: right;\">\n",
              "      <th></th>\n",
              "      <th>Date</th>\n",
              "      <th>Open</th>\n",
              "      <th>High</th>\n",
              "      <th>Low</th>\n",
              "      <th>Close</th>\n",
              "      <th>Volume</th>\n",
              "    </tr>\n",
              "  </thead>\n",
              "  <tbody>\n",
              "    <tr>\n",
              "      <th>0</th>\n",
              "      <td>2011-06-13</td>\n",
              "      <td>37.111427</td>\n",
              "      <td>37.571430</td>\n",
              "      <td>34.894287</td>\n",
              "      <td>35.095715</td>\n",
              "      <td>134741600</td>\n",
              "    </tr>\n",
              "    <tr>\n",
              "      <th>1</th>\n",
              "      <td>2011-06-20</td>\n",
              "      <td>34.551430</td>\n",
              "      <td>37.264286</td>\n",
              "      <td>34.302856</td>\n",
              "      <td>36.708572</td>\n",
              "      <td>133948500</td>\n",
              "    </tr>\n",
              "    <tr>\n",
              "      <th>2</th>\n",
              "      <td>2011-06-27</td>\n",
              "      <td>36.414288</td>\n",
              "      <td>38.391430</td>\n",
              "      <td>35.948570</td>\n",
              "      <td>38.284286</td>\n",
              "      <td>103798100</td>\n",
              "    </tr>\n",
              "    <tr>\n",
              "      <th>3</th>\n",
              "      <td>2011-07-04</td>\n",
              "      <td>39.428570</td>\n",
              "      <td>42.478573</td>\n",
              "      <td>39.387142</td>\n",
              "      <td>42.162857</td>\n",
              "      <td>143000200</td>\n",
              "    </tr>\n",
              "    <tr>\n",
              "      <th>4</th>\n",
              "      <td>2011-07-11</td>\n",
              "      <td>42.118572</td>\n",
              "      <td>43.541428</td>\n",
              "      <td>40.231430</td>\n",
              "      <td>40.990002</td>\n",
              "      <td>191842700</td>\n",
              "    </tr>\n",
              "  </tbody>\n",
              "</table>\n",
              "</div>"
            ],
            "text/plain": [
              "        Date       Open       High        Low      Close     Volume\n",
              "0 2011-06-13  37.111427  37.571430  34.894287  35.095715  134741600\n",
              "1 2011-06-20  34.551430  37.264286  34.302856  36.708572  133948500\n",
              "2 2011-06-27  36.414288  38.391430  35.948570  38.284286  103798100\n",
              "3 2011-07-04  39.428570  42.478573  39.387142  42.162857  143000200\n",
              "4 2011-07-11  42.118572  43.541428  40.231430  40.990002  191842700"
            ]
          },
          "metadata": {
            "tags": []
          },
          "execution_count": 37
        }
      ]
    },
    {
      "cell_type": "code",
      "metadata": {
        "id": "KExJJkiNNvb-"
      },
      "source": [
        "x=df[['Open','High','Low','Volume']]\n",
        "y=df['Close']"
      ],
      "execution_count": 38,
      "outputs": []
    },
    {
      "cell_type": "code",
      "metadata": {
        "id": "GjStJjuMOd5G"
      },
      "source": [
        "x_train,x_test,y_train,y_test=train_test_split(x,y,random_state=0)"
      ],
      "execution_count": 39,
      "outputs": []
    },
    {
      "cell_type": "code",
      "metadata": {
        "colab": {
          "base_uri": "https://localhost:8080/"
        },
        "id": "09VAIwdiOzNH",
        "outputId": "d867d140-8db2-4b5d-eced-7a48a499b86f"
      },
      "source": [
        "x_train.shape"
      ],
      "execution_count": 40,
      "outputs": [
        {
          "output_type": "execute_result",
          "data": {
            "text/plain": [
              "(392, 4)"
            ]
          },
          "metadata": {
            "tags": []
          },
          "execution_count": 40
        }
      ]
    },
    {
      "cell_type": "code",
      "metadata": {
        "colab": {
          "base_uri": "https://localhost:8080/"
        },
        "id": "S5COw_FIO41R",
        "outputId": "fa794cb1-fb9a-4fcd-ab44-d3b86863be3b"
      },
      "source": [
        "x_test.shape"
      ],
      "execution_count": 41,
      "outputs": [
        {
          "output_type": "execute_result",
          "data": {
            "text/plain": [
              "(131, 4)"
            ]
          },
          "metadata": {
            "tags": []
          },
          "execution_count": 41
        }
      ]
    },
    {
      "cell_type": "code",
      "metadata": {
        "id": "JXOfilNo4zof"
      },
      "source": [
        "from sklearn.linear_model import ElasticNet"
      ],
      "execution_count": 42,
      "outputs": []
    },
    {
      "cell_type": "code",
      "metadata": {
        "id": "7wRrM3YAPKc1"
      },
      "source": [
        "from sklearn.linear_model import LinearRegression\n",
        "from sklearn.metrics import confusion_matrix,accuracy_score\n",
        "regressor=ElasticNet(alpha=1.0, l1_ratio=0.5)\n"
      ],
      "execution_count": 43,
      "outputs": []
    },
    {
      "cell_type": "code",
      "metadata": {
        "colab": {
          "base_uri": "https://localhost:8080/"
        },
        "id": "RvTIBkycPdZY",
        "outputId": "e40b8525-6857-49e3-89fb-e300b80b61a0"
      },
      "source": [
        "regressor.fit(x_train,y_train)"
      ],
      "execution_count": 44,
      "outputs": [
        {
          "output_type": "stream",
          "text": [
            "/usr/local/lib/python3.7/dist-packages/sklearn/linear_model/_coordinate_descent.py:476: ConvergenceWarning: Objective did not converge. You might want to increase the number of iterations. Duality gap: 5084.445698048849, tolerance: 1073.7321510319678\n",
            "  positive)\n"
          ],
          "name": "stderr"
        },
        {
          "output_type": "execute_result",
          "data": {
            "text/plain": [
              "ElasticNet(alpha=1.0, copy_X=True, fit_intercept=True, l1_ratio=0.5,\n",
              "           max_iter=1000, normalize=False, positive=False, precompute=False,\n",
              "           random_state=None, selection='cyclic', tol=0.0001, warm_start=False)"
            ]
          },
          "metadata": {
            "tags": []
          },
          "execution_count": 44
        }
      ]
    },
    {
      "cell_type": "code",
      "metadata": {
        "colab": {
          "base_uri": "https://localhost:8080/"
        },
        "id": "aa8VSc8KQGkH",
        "outputId": "e799560e-f620-4005-bee8-e9c9ab463025"
      },
      "source": [
        "print(regressor.coef_)"
      ],
      "execution_count": 45,
      "outputs": [
        {
          "output_type": "stream",
          "text": [
            "[-4.63482954e-01  8.10358859e-01  6.42229789e-01 -7.15804108e-09]\n"
          ],
          "name": "stdout"
        }
      ]
    },
    {
      "cell_type": "code",
      "metadata": {
        "colab": {
          "base_uri": "https://localhost:8080/"
        },
        "id": "wsc1ybXQQLCM",
        "outputId": "0f7c2c55-85a0-4f89-f21e-9a5a5458e546"
      },
      "source": [
        "print(regressor.intercept_)"
      ],
      "execution_count": 46,
      "outputs": [
        {
          "output_type": "stream",
          "text": [
            "1.400045389342921\n"
          ],
          "name": "stdout"
        }
      ]
    },
    {
      "cell_type": "code",
      "metadata": {
        "id": "MicPJhdfQqKs"
      },
      "source": [
        "predicted=regressor.predict(x_test)"
      ],
      "execution_count": 47,
      "outputs": []
    },
    {
      "cell_type": "code",
      "metadata": {
        "colab": {
          "base_uri": "https://localhost:8080/"
        },
        "id": "tyK0D3VgQwMP",
        "outputId": "75f93e25-0ab6-4997-cf4e-e6fe5180057e"
      },
      "source": [
        "print(x_test)"
      ],
      "execution_count": 48,
      "outputs": [
        {
          "output_type": "stream",
          "text": [
            "           Open        High         Low     Volume\n",
            "15    19.459999   19.697144   15.375714  427576800\n",
            "78    12.285714   13.527143   12.057143  141852900\n",
            "137   55.341431   58.914288   52.937141  147089600\n",
            "264   95.199997  101.269997   93.180000   60429500\n",
            "113   35.897144   37.684284   35.774284   95128600\n",
            "..          ...         ...         ...        ...\n",
            "71     9.194286   10.034286    8.200000  345716700\n",
            "473  480.769989  555.880005  479.799988   46646700\n",
            "6     40.081429   40.785713   35.922855  239626800\n",
            "8     32.849998   35.407143   31.642857  135921800\n",
            "319  188.690002  190.250000  179.380005   36074000\n",
            "\n",
            "[131 rows x 4 columns]\n"
          ],
          "name": "stdout"
        }
      ]
    },
    {
      "cell_type": "code",
      "metadata": {
        "colab": {
          "base_uri": "https://localhost:8080/"
        },
        "id": "uRp9DAmDQ8md",
        "outputId": "d60e9100-71e6-4ccd-b7c3-38b1c2e1f9be"
      },
      "source": [
        "predicted.shape"
      ],
      "execution_count": 49,
      "outputs": [
        {
          "output_type": "execute_result",
          "data": {
            "text/plain": [
              "(131,)"
            ]
          },
          "metadata": {
            "tags": []
          },
          "execution_count": 49
        }
      ]
    },
    {
      "cell_type": "code",
      "metadata": {
        "id": "jUwZ9_f8Q-pJ"
      },
      "source": [
        "dframe=pd.DataFrame(y_test,predicted)\n"
      ],
      "execution_count": 50,
      "outputs": []
    },
    {
      "cell_type": "code",
      "metadata": {
        "id": "P7-Gl4q3RIdA"
      },
      "source": [
        "dfr=pd.DataFrame({'Actual Price':y_test, 'Predicted Price':predicted})"
      ],
      "execution_count": 51,
      "outputs": []
    },
    {
      "cell_type": "code",
      "metadata": {
        "colab": {
          "base_uri": "https://localhost:8080/"
        },
        "id": "Hxa8iI-LRePg",
        "outputId": "61717929-5b84-4593-d168-ec07c69f2322"
      },
      "source": [
        "print(dfr)"
      ],
      "execution_count": 52,
      "outputs": [
        {
          "output_type": "stream",
          "text": [
            "     Actual Price  Predicted Price\n",
            "15      16.181429        15.156552\n",
            "78      13.328571        13.395734\n",
            "137     58.475716        56.436886\n",
            "264     97.059998        98.751924\n",
            "113     36.981430        37.594501\n",
            "..            ...              ...\n",
            "71       9.940000         8.061653\n",
            "473    548.729980       536.841583\n",
            "6       37.998569        37.229519\n",
            "8       34.857143        34.216175\n",
            "319    184.039993       183.061182\n",
            "\n",
            "[131 rows x 2 columns]\n"
          ],
          "name": "stdout"
        }
      ]
    },
    {
      "cell_type": "code",
      "metadata": {
        "id": "YFAwed1iRt0V"
      },
      "source": [
        "from sklearn.metrics import confusion_matrix,accuracy_score\n"
      ],
      "execution_count": 53,
      "outputs": []
    },
    {
      "cell_type": "code",
      "metadata": {
        "colab": {
          "base_uri": "https://localhost:8080/"
        },
        "id": "ZmRu4XGBSHv4",
        "outputId": "f75f2fbc-59b8-4fdf-eda5-58b958b54202"
      },
      "source": [
        "regressor.score(x_test,y_test)"
      ],
      "execution_count": 54,
      "outputs": [
        {
          "output_type": "execute_result",
          "data": {
            "text/plain": [
              "0.9991175252068286"
            ]
          },
          "metadata": {
            "tags": []
          },
          "execution_count": 54
        }
      ]
    },
    {
      "cell_type": "code",
      "metadata": {
        "id": "nGQ2KsCVSJpk"
      },
      "source": [
        "import math"
      ],
      "execution_count": 55,
      "outputs": []
    },
    {
      "cell_type": "code",
      "metadata": {
        "colab": {
          "base_uri": "https://localhost:8080/"
        },
        "id": "g5guXR8xSMbd",
        "outputId": "e7299a90-43e2-4d38-c543-1bed70a2a13c"
      },
      "source": [
        "print('Mean Absolute Error:',metrics.mean_absolute_error(y_test,predicted))"
      ],
      "execution_count": 56,
      "outputs": [
        {
          "output_type": "stream",
          "text": [
            "Mean Absolute Error: 3.076721636465964\n"
          ],
          "name": "stdout"
        }
      ]
    },
    {
      "cell_type": "code",
      "metadata": {
        "colab": {
          "base_uri": "https://localhost:8080/"
        },
        "id": "KJ0e0erxSpBT",
        "outputId": "f1657b0b-5bb0-4ae8-d219-30f8ad83dcff"
      },
      "source": [
        "print('Mean Square Error:',metrics.mean_squared_error(y_test,predicted))"
      ],
      "execution_count": 57,
      "outputs": [
        {
          "output_type": "stream",
          "text": [
            "Mean Square Error: 21.422191773562325\n"
          ],
          "name": "stdout"
        }
      ]
    },
    {
      "cell_type": "code",
      "metadata": {
        "colab": {
          "base_uri": "https://localhost:8080/"
        },
        "id": "wwjIeQWUSyJ0",
        "outputId": "c77418fb-a46d-473f-cbc2-616110ac69c5"
      },
      "source": [
        "print('Root Mean Absolute Error:',math.sqrt(metrics.mean_absolute_error(y_test,predicted)))"
      ],
      "execution_count": 60,
      "outputs": [
        {
          "output_type": "stream",
          "text": [
            "Root Mean Absolute Error: 1.7540586183095375\n"
          ],
          "name": "stdout"
        }
      ]
    },
    {
      "cell_type": "code",
      "metadata": {
        "id": "s6xgAc8tTFI0"
      },
      "source": [
        "graph=dfr.head(30)"
      ],
      "execution_count": 61,
      "outputs": []
    },
    {
      "cell_type": "code",
      "metadata": {
        "colab": {
          "base_uri": "https://localhost:8080/",
          "height": 291
        },
        "id": "m7bLQgDHTKYV",
        "outputId": "4f2db092-38f4-4dd3-bc82-e6e48e0048c3"
      },
      "source": [
        "graph.plot(kind='bar')"
      ],
      "execution_count": 62,
      "outputs": [
        {
          "output_type": "execute_result",
          "data": {
            "text/plain": [
              "<matplotlib.axes._subplots.AxesSubplot at 0x7f9ffced2250>"
            ]
          },
          "metadata": {
            "tags": []
          },
          "execution_count": 62
        },
        {
          "output_type": "display_data",
          "data": {
            "image/png": "[encoded data removed]",
            "text/plain": [
              "<Figure size 432x288 with 1 Axes>"
            ]
          },
          "metadata": {
            "tags": [],
            "needs_background": "light"
          }
        }
      ]
    }
  ]
}