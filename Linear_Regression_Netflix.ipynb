{
  "nbformat": 4,
  "nbformat_minor": 0,
  "metadata": {
    "colab": {
      "name": "Linear Regression Netflix.ipynb",
      "provenance": [],
      "include_colab_link": true
    },
    "kernelspec": {
      "name": "python3",
      "display_name": "Python 3"
    },
    "language_info": {
      "name": "python"
    }
  },
  "cells": [
    {
      "cell_type": "markdown",
      "metadata": {
        "id": "view-in-github",
        "colab_type": "text"
      },
      "source": [
        "<a href=\"https://colab.research.google.com/github/Saadahm/Saadahm1/blob/main/Linear_Regression_Netflix.ipynb\" target=\"_parent\"><img src=\"https://colab.research.google.com/assets/colab-badge.svg\" alt=\"Open In Colab\"/></a>"
      ]
    },
    {
      "cell_type": "code",
      "metadata": {
        "id": "4H6vrPYZLowo"
      },
      "source": [
        "from sklearn.model_selection import train_test_split\n",
        "from sklearn.linear_model import LinearRegression\n",
        "from sklearn import metrics\n"
      ],
      "execution_count": 1,
      "outputs": []
    },
    {
      "cell_type": "code",
      "metadata": {
        "id": "3nlZkJn_I1X3"
      },
      "source": [
        "import pandas as pd\n",
        "import numpy as np\n",
        "import matplotlib.pyplot as plt\n",
        "df=pd.read_csv('NFLX.csv')"
      ],
      "execution_count": 2,
      "outputs": []
    },
    {
      "cell_type": "code",
      "metadata": {
        "colab": {
          "base_uri": "https://localhost:8080/",
          "height": 297
        },
        "id": "leS7AZ7MMJmh",
        "outputId": "719df0b7-0b1b-4fdc-9468-9889de15e8c1"
      },
      "source": [
        "df.describe()"
      ],
      "execution_count": 3,
      "outputs": [
        {
          "output_type": "execute_result",
          "data": {
            "text/html": [
              "<div>\n",
              "<style scoped>\n",
              "    .dataframe tbody tr th:only-of-type {\n",
              "        vertical-align: middle;\n",
              "    }\n",
              "\n",
              "    .dataframe tbody tr th {\n",
              "        vertical-align: top;\n",
              "    }\n",
              "\n",
              "    .dataframe thead th {\n",
              "        text-align: right;\n",
              "    }\n",
              "</style>\n",
              "<table border=\"1\" class=\"dataframe\">\n",
              "  <thead>\n",
              "    <tr style=\"text-align: right;\">\n",
              "      <th></th>\n",
              "      <th>Open</th>\n",
              "      <th>High</th>\n",
              "      <th>Low</th>\n",
              "      <th>Close</th>\n",
              "      <th>Adj Close</th>\n",
              "      <th>Volume</th>\n",
              "    </tr>\n",
              "  </thead>\n",
              "  <tbody>\n",
              "    <tr>\n",
              "      <th>count</th>\n",
              "      <td>523.000000</td>\n",
              "      <td>523.000000</td>\n",
              "      <td>523.000000</td>\n",
              "      <td>523.000000</td>\n",
              "      <td>523.000000</td>\n",
              "      <td>5.230000e+02</td>\n",
              "    </tr>\n",
              "    <tr>\n",
              "      <th>mean</th>\n",
              "      <td>180.040778</td>\n",
              "      <td>187.655279</td>\n",
              "      <td>173.532019</td>\n",
              "      <td>180.929674</td>\n",
              "      <td>180.929674</td>\n",
              "      <td>8.734732e+07</td>\n",
              "    </tr>\n",
              "    <tr>\n",
              "      <th>std</th>\n",
              "      <td>162.861814</td>\n",
              "      <td>169.513468</td>\n",
              "      <td>157.218526</td>\n",
              "      <td>163.353438</td>\n",
              "      <td>163.353438</td>\n",
              "      <td>8.678611e+07</td>\n",
              "    </tr>\n",
              "    <tr>\n",
              "      <th>min</th>\n",
              "      <td>7.791429</td>\n",
              "      <td>8.262857</td>\n",
              "      <td>7.544286</td>\n",
              "      <td>7.701429</td>\n",
              "      <td>7.701429</td>\n",
              "      <td>3.123969e+06</td>\n",
              "    </tr>\n",
              "    <tr>\n",
              "      <th>25%</th>\n",
              "      <td>47.545714</td>\n",
              "      <td>49.742143</td>\n",
              "      <td>45.621429</td>\n",
              "      <td>47.712857</td>\n",
              "      <td>47.712857</td>\n",
              "      <td>3.264995e+07</td>\n",
              "    </tr>\n",
              "    <tr>\n",
              "      <th>50%</th>\n",
              "      <td>107.480003</td>\n",
              "      <td>115.419998</td>\n",
              "      <td>101.209999</td>\n",
              "      <td>108.379997</td>\n",
              "      <td>108.379997</td>\n",
              "      <td>6.049690e+07</td>\n",
              "    </tr>\n",
              "    <tr>\n",
              "      <th>75%</th>\n",
              "      <td>318.989990</td>\n",
              "      <td>336.199997</td>\n",
              "      <td>305.770005</td>\n",
              "      <td>325.039994</td>\n",
              "      <td>325.039994</td>\n",
              "      <td>1.139114e+08</td>\n",
              "    </tr>\n",
              "    <tr>\n",
              "      <th>max</th>\n",
              "      <td>567.979980</td>\n",
              "      <td>593.289978</td>\n",
              "      <td>543.000000</td>\n",
              "      <td>565.169983</td>\n",
              "      <td>565.169983</td>\n",
              "      <td>7.136955e+08</td>\n",
              "    </tr>\n",
              "  </tbody>\n",
              "</table>\n",
              "</div>"
            ],
            "text/plain": [
              "             Open        High         Low       Close   Adj Close        Volume\n",
              "count  523.000000  523.000000  523.000000  523.000000  523.000000  5.230000e+02\n",
              "mean   180.040778  187.655279  173.532019  180.929674  180.929674  8.734732e+07\n",
              "std    162.861814  169.513468  157.218526  163.353438  163.353438  8.678611e+07\n",
              "min      7.791429    8.262857    7.544286    7.701429    7.701429  3.123969e+06\n",
              "25%     47.545714   49.742143   45.621429   47.712857   47.712857  3.264995e+07\n",
              "50%    107.480003  115.419998  101.209999  108.379997  108.379997  6.049690e+07\n",
              "75%    318.989990  336.199997  305.770005  325.039994  325.039994  1.139114e+08\n",
              "max    567.979980  593.289978  543.000000  565.169983  565.169983  7.136955e+08"
            ]
          },
          "metadata": {
            "tags": []
          },
          "execution_count": 3
        }
      ]
    },
    {
      "cell_type": "code",
      "metadata": {
        "id": "mE0sViTIMqi1"
      },
      "source": [
        "df['Date']=pd.to_datetime(df.Date)"
      ],
      "execution_count": 4,
      "outputs": []
    },
    {
      "cell_type": "code",
      "metadata": {
        "colab": {
          "base_uri": "https://localhost:8080/"
        },
        "id": "5t5g198NM_wc",
        "outputId": "1688a490-2cc0-4e47-def2-270c3b93844e"
      },
      "source": [
        "df.shape"
      ],
      "execution_count": 5,
      "outputs": [
        {
          "output_type": "execute_result",
          "data": {
            "text/plain": [
              "(523, 7)"
            ]
          },
          "metadata": {
            "tags": []
          },
          "execution_count": 5
        }
      ]
    },
    {
      "cell_type": "code",
      "metadata": {
        "id": "KCV5azhSNEw5"
      },
      "source": [
        "df.drop('Adj Close',axis=1,inplace = True)"
      ],
      "execution_count": 6,
      "outputs": []
    },
    {
      "cell_type": "code",
      "metadata": {
        "colab": {
          "base_uri": "https://localhost:8080/",
          "height": 204
        },
        "id": "mFBu7cAZNa2Z",
        "outputId": "c65fcde3-f509-4e07-991e-b3d2e66e5232"
      },
      "source": [
        "df.head()"
      ],
      "execution_count": 7,
      "outputs": [
        {
          "output_type": "execute_result",
          "data": {
            "text/html": [
              "<div>\n",
              "<style scoped>\n",
              "    .dataframe tbody tr th:only-of-type {\n",
              "        vertical-align: middle;\n",
              "    }\n",
              "\n",
              "    .dataframe tbody tr th {\n",
              "        vertical-align: top;\n",
              "    }\n",
              "\n",
              "    .dataframe thead th {\n",
              "        text-align: right;\n",
              "    }\n",
              "</style>\n",
              "<table border=\"1\" class=\"dataframe\">\n",
              "  <thead>\n",
              "    <tr style=\"text-align: right;\">\n",
              "      <th></th>\n",
              "      <th>Date</th>\n",
              "      <th>Open</th>\n",
              "      <th>High</th>\n",
              "      <th>Low</th>\n",
              "      <th>Close</th>\n",
              "      <th>Volume</th>\n",
              "    </tr>\n",
              "  </thead>\n",
              "  <tbody>\n",
              "    <tr>\n",
              "      <th>0</th>\n",
              "      <td>2011-06-13</td>\n",
              "      <td>37.111427</td>\n",
              "      <td>37.571430</td>\n",
              "      <td>34.894287</td>\n",
              "      <td>35.095715</td>\n",
              "      <td>134741600</td>\n",
              "    </tr>\n",
              "    <tr>\n",
              "      <th>1</th>\n",
              "      <td>2011-06-20</td>\n",
              "      <td>34.551430</td>\n",
              "      <td>37.264286</td>\n",
              "      <td>34.302856</td>\n",
              "      <td>36.708572</td>\n",
              "      <td>133948500</td>\n",
              "    </tr>\n",
              "    <tr>\n",
              "      <th>2</th>\n",
              "      <td>2011-06-27</td>\n",
              "      <td>36.414288</td>\n",
              "      <td>38.391430</td>\n",
              "      <td>35.948570</td>\n",
              "      <td>38.284286</td>\n",
              "      <td>103798100</td>\n",
              "    </tr>\n",
              "    <tr>\n",
              "      <th>3</th>\n",
              "      <td>2011-07-04</td>\n",
              "      <td>39.428570</td>\n",
              "      <td>42.478573</td>\n",
              "      <td>39.387142</td>\n",
              "      <td>42.162857</td>\n",
              "      <td>143000200</td>\n",
              "    </tr>\n",
              "    <tr>\n",
              "      <th>4</th>\n",
              "      <td>2011-07-11</td>\n",
              "      <td>42.118572</td>\n",
              "      <td>43.541428</td>\n",
              "      <td>40.231430</td>\n",
              "      <td>40.990002</td>\n",
              "      <td>191842700</td>\n",
              "    </tr>\n",
              "  </tbody>\n",
              "</table>\n",
              "</div>"
            ],
            "text/plain": [
              "        Date       Open       High        Low      Close     Volume\n",
              "0 2011-06-13  37.111427  37.571430  34.894287  35.095715  134741600\n",
              "1 2011-06-20  34.551430  37.264286  34.302856  36.708572  133948500\n",
              "2 2011-06-27  36.414288  38.391430  35.948570  38.284286  103798100\n",
              "3 2011-07-04  39.428570  42.478573  39.387142  42.162857  143000200\n",
              "4 2011-07-11  42.118572  43.541428  40.231430  40.990002  191842700"
            ]
          },
          "metadata": {
            "tags": []
          },
          "execution_count": 7
        }
      ]
    },
    {
      "cell_type": "code",
      "metadata": {
        "id": "KExJJkiNNvb-"
      },
      "source": [
        "x=df[['Open','High','Low','Volume']]\n",
        "y=df['Close']"
      ],
      "execution_count": 8,
      "outputs": []
    },
    {
      "cell_type": "code",
      "metadata": {
        "id": "GjStJjuMOd5G"
      },
      "source": [
        "x_train,x_test,y_train,y_test=train_test_split(x,y,random_state=0)"
      ],
      "execution_count": 9,
      "outputs": []
    },
    {
      "cell_type": "code",
      "metadata": {
        "colab": {
          "base_uri": "https://localhost:8080/"
        },
        "id": "09VAIwdiOzNH",
        "outputId": "dc06d7ab-bafc-4e21-f82f-da86a8a54db1"
      },
      "source": [
        "x_train.shape"
      ],
      "execution_count": 10,
      "outputs": [
        {
          "output_type": "execute_result",
          "data": {
            "text/plain": [
              "(392, 4)"
            ]
          },
          "metadata": {
            "tags": []
          },
          "execution_count": 10
        }
      ]
    },
    {
      "cell_type": "code",
      "metadata": {
        "colab": {
          "base_uri": "https://localhost:8080/"
        },
        "id": "S5COw_FIO41R",
        "outputId": "2488d7e4-7bea-422b-86ee-31849a8026fe"
      },
      "source": [
        "x_test.shape"
      ],
      "execution_count": 11,
      "outputs": [
        {
          "output_type": "execute_result",
          "data": {
            "text/plain": [
              "(131, 4)"
            ]
          },
          "metadata": {
            "tags": []
          },
          "execution_count": 11
        }
      ]
    },
    {
      "cell_type": "code",
      "metadata": {
        "id": "7wRrM3YAPKc1"
      },
      "source": [
        "from sklearn.linear_model import LinearRegression\n",
        "from sklearn.metrics import confusion_matrix,accuracy_score\n",
        "regressor=LinearRegression()"
      ],
      "execution_count": 12,
      "outputs": []
    },
    {
      "cell_type": "code",
      "metadata": {
        "colab": {
          "base_uri": "https://localhost:8080/"
        },
        "id": "RvTIBkycPdZY",
        "outputId": "98b5fc36-85af-4d23-9cee-be4c8632ea1e"
      },
      "source": [
        "regressor.fit(x_train,y_train)"
      ],
      "execution_count": 13,
      "outputs": [
        {
          "output_type": "execute_result",
          "data": {
            "text/plain": [
              "LinearRegression(copy_X=True, fit_intercept=True, n_jobs=None, normalize=False)"
            ]
          },
          "metadata": {
            "tags": []
          },
          "execution_count": 13
        }
      ]
    },
    {
      "cell_type": "code",
      "metadata": {
        "colab": {
          "base_uri": "https://localhost:8080/"
        },
        "id": "aa8VSc8KQGkH",
        "outputId": "0b90f2ed-f470-45a0-d376-a3ac2b7d9a71"
      },
      "source": [
        "print(regressor.coef_)"
      ],
      "execution_count": 14,
      "outputs": [
        {
          "output_type": "stream",
          "text": [
            "[-5.97017183e-01  7.39741957e-01  8.57824385e-01 -3.13296733e-09]\n"
          ],
          "name": "stdout"
        }
      ]
    },
    {
      "cell_type": "code",
      "metadata": {
        "colab": {
          "base_uri": "https://localhost:8080/"
        },
        "id": "wsc1ybXQQLCM",
        "outputId": "3920ad27-1558-4204-de3b-cdb26a088cab"
      },
      "source": [
        "print(regressor.intercept_)"
      ],
      "execution_count": 15,
      "outputs": [
        {
          "output_type": "stream",
          "text": [
            "0.9290613159432723\n"
          ],
          "name": "stdout"
        }
      ]
    },
    {
      "cell_type": "code",
      "metadata": {
        "id": "MicPJhdfQqKs"
      },
      "source": [
        "predicted=regressor.predict(x_test)"
      ],
      "execution_count": 16,
      "outputs": []
    },
    {
      "cell_type": "code",
      "metadata": {
        "colab": {
          "base_uri": "https://localhost:8080/"
        },
        "id": "tyK0D3VgQwMP",
        "outputId": "4d23119d-e2d0-4256-e2e6-955036a7b0db"
      },
      "source": [
        "print(x_test)"
      ],
      "execution_count": null,
      "outputs": [
        {
          "output_type": "stream",
          "text": [
            "          Open       High        Low      Volume\n",
            "15   14.280714  14.616071  13.613571  3073739200\n",
            "78   18.750000  19.627144  18.056429  3344812800\n",
            "137  19.645357  19.814285  17.626785  3266510800\n",
            "264  23.847500  24.222500  23.592501   450824000\n",
            "113  16.316429  18.008928  16.308214  2855347600\n",
            "..         ...        ...        ...         ...\n",
            "71   21.872143  22.692142  21.107143  3487162000\n",
            "473  92.500000  96.317497  92.467499   564072000\n",
            "6    13.941071  14.446429  13.714286  2952331200\n",
            "8    12.917500  13.558571  12.607857  4376019200\n",
            "319  37.645000  38.497501  36.825001   423272400\n",
            "\n",
            "[131 rows x 4 columns]\n"
          ],
          "name": "stdout"
        }
      ]
    },
    {
      "cell_type": "code",
      "metadata": {
        "colab": {
          "base_uri": "https://localhost:8080/"
        },
        "id": "uRp9DAmDQ8md",
        "outputId": "8ce8e1d1-47c1-42eb-a3d4-a481e07e55ca"
      },
      "source": [
        "predicted.shape"
      ],
      "execution_count": 17,
      "outputs": [
        {
          "output_type": "execute_result",
          "data": {
            "text/plain": [
              "(131,)"
            ]
          },
          "metadata": {
            "tags": []
          },
          "execution_count": 17
        }
      ]
    },
    {
      "cell_type": "code",
      "metadata": {
        "id": "jUwZ9_f8Q-pJ"
      },
      "source": [
        "dframe=pd.DataFrame(y_test,predicted)\n"
      ],
      "execution_count": 18,
      "outputs": []
    },
    {
      "cell_type": "code",
      "metadata": {
        "id": "P7-Gl4q3RIdA"
      },
      "source": [
        "dfr=pd.DataFrame({'Actual Price':y_test, 'Predicted Price':predicted})"
      ],
      "execution_count": 19,
      "outputs": []
    },
    {
      "cell_type": "code",
      "metadata": {
        "colab": {
          "base_uri": "https://localhost:8080/"
        },
        "id": "Hxa8iI-LRePg",
        "outputId": "e9c69050-ba47-4ce4-97ae-2d612ba56e34"
      },
      "source": [
        "print(dfr)"
      ],
      "execution_count": 20,
      "outputs": [
        {
          "output_type": "stream",
          "text": [
            "     Actual Price  Predicted Price\n",
            "15      16.181429        15.731990\n",
            "78      13.328571        13.499365\n",
            "137     58.475716        56.420590\n",
            "264     97.059998        98.749446\n",
            "113     36.981430        37.764514\n",
            "..            ...              ...\n",
            "71       9.940000         8.813738\n",
            "473    548.729980       536.546867\n",
            "6       37.998569        37.235421\n",
            "8       34.857143        34.227373\n",
            "319    184.039993       182.777319\n",
            "\n",
            "[131 rows x 2 columns]\n"
          ],
          "name": "stdout"
        }
      ]
    },
    {
      "cell_type": "code",
      "metadata": {
        "id": "YFAwed1iRt0V"
      },
      "source": [
        "from sklearn.metrics import confusion_matrix,accuracy_score\n"
      ],
      "execution_count": 21,
      "outputs": []
    },
    {
      "cell_type": "code",
      "metadata": {
        "colab": {
          "base_uri": "https://localhost:8080/"
        },
        "id": "ZmRu4XGBSHv4",
        "outputId": "6517e245-ffbf-4fa2-d84c-3ba0126b0c6e"
      },
      "source": [
        "regressor.score(x_test,y_test)"
      ],
      "execution_count": 22,
      "outputs": [
        {
          "output_type": "execute_result",
          "data": {
            "text/plain": [
              "0.999170332323922"
            ]
          },
          "metadata": {
            "tags": []
          },
          "execution_count": 22
        }
      ]
    },
    {
      "cell_type": "code",
      "metadata": {
        "id": "nGQ2KsCVSJpk"
      },
      "source": [
        "import math"
      ],
      "execution_count": 23,
      "outputs": []
    },
    {
      "cell_type": "code",
      "metadata": {
        "colab": {
          "base_uri": "https://localhost:8080/"
        },
        "id": "g5guXR8xSMbd",
        "outputId": "22fec034-e330-4c68-aa6d-7f68483ebf05"
      },
      "source": [
        "print('Mean Absolute Error:',metrics.mean_absolute_error(y_test,predicted))"
      ],
      "execution_count": 24,
      "outputs": [
        {
          "output_type": "stream",
          "text": [
            "Mean Absolute Error: 2.949728427266824\n"
          ],
          "name": "stdout"
        }
      ]
    },
    {
      "cell_type": "code",
      "metadata": {
        "colab": {
          "base_uri": "https://localhost:8080/"
        },
        "id": "KJ0e0erxSpBT",
        "outputId": "ae3d4c5a-64c7-4819-d22a-4aa44003fc0d"
      },
      "source": [
        "print('Mean Square Error:',metrics.mean_squared_error(y_test,predicted))"
      ],
      "execution_count": 25,
      "outputs": [
        {
          "output_type": "stream",
          "text": [
            "Mean Square Error: 20.140292054569116\n"
          ],
          "name": "stdout"
        }
      ]
    },
    {
      "cell_type": "code",
      "metadata": {
        "colab": {
          "base_uri": "https://localhost:8080/"
        },
        "id": "wwjIeQWUSyJ0",
        "outputId": "740193b0-c1b8-4a17-dcb8-9480d958e61a"
      },
      "source": [
        "print('Root Mean Absolute Error:',math.sqrt(metrics.mean_absolute_error(y_test,predicted)))"
      ],
      "execution_count": 26,
      "outputs": [
        {
          "output_type": "stream",
          "text": [
            "Root Mean Absolute Error: 1.7174773440330513\n"
          ],
          "name": "stdout"
        }
      ]
    },
    {
      "cell_type": "code",
      "metadata": {
        "id": "s6xgAc8tTFI0"
      },
      "source": [
        "graph=dfr.head(30)"
      ],
      "execution_count": 27,
      "outputs": []
    },
    {
      "cell_type": "code",
      "metadata": {
        "colab": {
          "base_uri": "https://localhost:8080/",
          "height": 291
        },
        "id": "m7bLQgDHTKYV",
        "outputId": "fb07cdf6-bcb6-4196-dcce-f13b2c8ac4f3"
      },
      "source": [
        "graph.plot(kind='bar')"
      ],
      "execution_count": 28,
      "outputs": [
        {
          "output_type": "execute_result",
          "data": {
            "text/plain": [
              "<matplotlib.axes._subplots.AxesSubplot at 0x7f4cded36e10>"
            ]
          },
          "metadata": {
            "tags": []
          },
          "execution_count": 28
        },
        {
          "output_type": "display_data",
          "data": {
            "image/png": "[encoded data removed]",
            "text/plain": [
              "<Figure size 432x288 with 1 Axes>"
            ]
          },
          "metadata": {
            "tags": [],
            "needs_background": "light"
          }
        }
      ]
    }
  ]
}