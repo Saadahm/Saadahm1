{
  "nbformat": 4,
  "nbformat_minor": 0,
  "metadata": {
    "colab": {
      "name": "Elastic_Net_Regression_Samsung.ipynb",
      "provenance": [],
      "include_colab_link": true
    },
    "kernelspec": {
      "name": "python3",
      "display_name": "Python 3"
    },
    "language_info": {
      "name": "python"
    }
  },
  "cells": [
    {
      "cell_type": "markdown",
      "metadata": {
        "id": "view-in-github",
        "colab_type": "text"
      },
      "source": [
        "<a href=\"https://colab.research.google.com/github/Saadahm/Saadahm1/blob/main/Elastic_Net_Regression_Samsung.ipynb\" target=\"_parent\"><img src=\"https://colab.research.google.com/assets/colab-badge.svg\" alt=\"Open In Colab\"/></a>"
      ]
    },
    {
      "cell_type": "code",
      "metadata": {
        "id": "4H6vrPYZLowo"
      },
      "source": [
        "from sklearn.model_selection import train_test_split\n",
        "from sklearn.linear_model import LinearRegression\n",
        "from sklearn import metrics\n"
      ],
      "execution_count": 1,
      "outputs": []
    },
    {
      "cell_type": "code",
      "metadata": {
        "id": "3nlZkJn_I1X3"
      },
      "source": [
        "import pandas as pd\n",
        "import numpy as np\n",
        "import matplotlib.pyplot as plt\n",
        "df=pd.read_csv('005930.KS.csv')"
      ],
      "execution_count": 2,
      "outputs": []
    },
    {
      "cell_type": "code",
      "metadata": {
        "colab": {
          "base_uri": "https://localhost:8080/",
          "height": 297
        },
        "id": "leS7AZ7MMJmh",
        "outputId": "c903ef75-64e3-4040-a337-eb43a11e0515"
      },
      "source": [
        "df.describe()"
      ],
      "execution_count": 3,
      "outputs": [
        {
          "output_type": "execute_result",
          "data": {
            "text/html": [
              "<div>\n",
              "<style scoped>\n",
              "    .dataframe tbody tr th:only-of-type {\n",
              "        vertical-align: middle;\n",
              "    }\n",
              "\n",
              "    .dataframe tbody tr th {\n",
              "        vertical-align: top;\n",
              "    }\n",
              "\n",
              "    .dataframe thead th {\n",
              "        text-align: right;\n",
              "    }\n",
              "</style>\n",
              "<table border=\"1\" class=\"dataframe\">\n",
              "  <thead>\n",
              "    <tr style=\"text-align: right;\">\n",
              "      <th></th>\n",
              "      <th>Open</th>\n",
              "      <th>High</th>\n",
              "      <th>Low</th>\n",
              "      <th>Close</th>\n",
              "      <th>Adj Close</th>\n",
              "      <th>Volume</th>\n",
              "    </tr>\n",
              "  </thead>\n",
              "  <tbody>\n",
              "    <tr>\n",
              "      <th>count</th>\n",
              "      <td>523.000000</td>\n",
              "      <td>523.000000</td>\n",
              "      <td>523.000000</td>\n",
              "      <td>523.000000</td>\n",
              "      <td>523.000000</td>\n",
              "      <td>5.230000e+02</td>\n",
              "    </tr>\n",
              "    <tr>\n",
              "      <th>mean</th>\n",
              "      <td>37824.015296</td>\n",
              "      <td>38890.114723</td>\n",
              "      <td>36915.908222</td>\n",
              "      <td>37928.661568</td>\n",
              "      <td>34140.940932</td>\n",
              "      <td>6.744126e+07</td>\n",
              "    </tr>\n",
              "    <tr>\n",
              "      <th>std</th>\n",
              "      <td>15916.738290</td>\n",
              "      <td>16371.771449</td>\n",
              "      <td>15559.271241</td>\n",
              "      <td>15935.509185</td>\n",
              "      <td>16596.217493</td>\n",
              "      <td>2.931286e+07</td>\n",
              "    </tr>\n",
              "    <tr>\n",
              "      <th>min</th>\n",
              "      <td>13680.000000</td>\n",
              "      <td>14760.000000</td>\n",
              "      <td>13440.000000</td>\n",
              "      <td>13600.000000</td>\n",
              "      <td>11175.750000</td>\n",
              "      <td>0.000000e+00</td>\n",
              "    </tr>\n",
              "    <tr>\n",
              "      <th>25%</th>\n",
              "      <td>25810.000000</td>\n",
              "      <td>26520.000000</td>\n",
              "      <td>25240.000000</td>\n",
              "      <td>25770.000000</td>\n",
              "      <td>21741.436524</td>\n",
              "      <td>4.856692e+07</td>\n",
              "    </tr>\n",
              "    <tr>\n",
              "      <th>50%</th>\n",
              "      <td>30360.000000</td>\n",
              "      <td>31160.000000</td>\n",
              "      <td>29780.000000</td>\n",
              "      <td>30540.000000</td>\n",
              "      <td>25453.410156</td>\n",
              "      <td>6.066430e+07</td>\n",
              "    </tr>\n",
              "    <tr>\n",
              "      <th>75%</th>\n",
              "      <td>47500.000000</td>\n",
              "      <td>49250.000000</td>\n",
              "      <td>46490.000000</td>\n",
              "      <td>47730.000000</td>\n",
              "      <td>43727.035157</td>\n",
              "      <td>7.755890e+07</td>\n",
              "    </tr>\n",
              "    <tr>\n",
              "      <th>max</th>\n",
              "      <td>90000.000000</td>\n",
              "      <td>96800.000000</td>\n",
              "      <td>87800.000000</td>\n",
              "      <td>88800.000000</td>\n",
              "      <td>88407.148438</td>\n",
              "      <td>2.348832e+08</td>\n",
              "    </tr>\n",
              "  </tbody>\n",
              "</table>\n",
              "</div>"
            ],
            "text/plain": [
              "               Open          High  ...     Adj Close        Volume\n",
              "count    523.000000    523.000000  ...    523.000000  5.230000e+02\n",
              "mean   37824.015296  38890.114723  ...  34140.940932  6.744126e+07\n",
              "std    15916.738290  16371.771449  ...  16596.217493  2.931286e+07\n",
              "min    13680.000000  14760.000000  ...  11175.750000  0.000000e+00\n",
              "25%    25810.000000  26520.000000  ...  21741.436524  4.856692e+07\n",
              "50%    30360.000000  31160.000000  ...  25453.410156  6.066430e+07\n",
              "75%    47500.000000  49250.000000  ...  43727.035157  7.755890e+07\n",
              "max    90000.000000  96800.000000  ...  88407.148438  2.348832e+08\n",
              "\n",
              "[8 rows x 6 columns]"
            ]
          },
          "metadata": {
            "tags": []
          },
          "execution_count": 3
        }
      ]
    },
    {
      "cell_type": "code",
      "metadata": {
        "id": "mE0sViTIMqi1"
      },
      "source": [
        "df['Date']=pd.to_datetime(df.Date)"
      ],
      "execution_count": 4,
      "outputs": []
    },
    {
      "cell_type": "code",
      "metadata": {
        "colab": {
          "base_uri": "https://localhost:8080/"
        },
        "id": "5t5g198NM_wc",
        "outputId": "4ca1f875-0b2a-4a62-f0a0-0db53f5e8896"
      },
      "source": [
        "df.shape"
      ],
      "execution_count": 5,
      "outputs": [
        {
          "output_type": "execute_result",
          "data": {
            "text/plain": [
              "(523, 7)"
            ]
          },
          "metadata": {
            "tags": []
          },
          "execution_count": 5
        }
      ]
    },
    {
      "cell_type": "code",
      "metadata": {
        "id": "KCV5azhSNEw5"
      },
      "source": [
        "df.drop('Adj Close',axis=1,inplace = True)"
      ],
      "execution_count": 6,
      "outputs": []
    },
    {
      "cell_type": "code",
      "metadata": {
        "colab": {
          "base_uri": "https://localhost:8080/",
          "height": 204
        },
        "id": "mFBu7cAZNa2Z",
        "outputId": "645fe783-344e-48fe-f4b2-0d7c974b9772"
      },
      "source": [
        "df.head()"
      ],
      "execution_count": 7,
      "outputs": [
        {
          "output_type": "execute_result",
          "data": {
            "text/html": [
              "<div>\n",
              "<style scoped>\n",
              "    .dataframe tbody tr th:only-of-type {\n",
              "        vertical-align: middle;\n",
              "    }\n",
              "\n",
              "    .dataframe tbody tr th {\n",
              "        vertical-align: top;\n",
              "    }\n",
              "\n",
              "    .dataframe thead th {\n",
              "        text-align: right;\n",
              "    }\n",
              "</style>\n",
              "<table border=\"1\" class=\"dataframe\">\n",
              "  <thead>\n",
              "    <tr style=\"text-align: right;\">\n",
              "      <th></th>\n",
              "      <th>Date</th>\n",
              "      <th>Open</th>\n",
              "      <th>High</th>\n",
              "      <th>Low</th>\n",
              "      <th>Close</th>\n",
              "      <th>Volume</th>\n",
              "    </tr>\n",
              "  </thead>\n",
              "  <tbody>\n",
              "    <tr>\n",
              "      <th>0</th>\n",
              "      <td>2011-06-13</td>\n",
              "      <td>16880.0</td>\n",
              "      <td>17460.0</td>\n",
              "      <td>16060.0</td>\n",
              "      <td>16380.0</td>\n",
              "      <td>86986900</td>\n",
              "    </tr>\n",
              "    <tr>\n",
              "      <th>1</th>\n",
              "      <td>2011-06-20</td>\n",
              "      <td>16260.0</td>\n",
              "      <td>17080.0</td>\n",
              "      <td>15900.0</td>\n",
              "      <td>17040.0</td>\n",
              "      <td>96266850</td>\n",
              "    </tr>\n",
              "    <tr>\n",
              "      <th>2</th>\n",
              "      <td>2011-06-27</td>\n",
              "      <td>16940.0</td>\n",
              "      <td>17200.0</td>\n",
              "      <td>16420.0</td>\n",
              "      <td>17100.0</td>\n",
              "      <td>76047550</td>\n",
              "    </tr>\n",
              "    <tr>\n",
              "      <th>3</th>\n",
              "      <td>2011-07-04</td>\n",
              "      <td>17400.0</td>\n",
              "      <td>17980.0</td>\n",
              "      <td>17380.0</td>\n",
              "      <td>17700.0</td>\n",
              "      <td>83693400</td>\n",
              "    </tr>\n",
              "    <tr>\n",
              "      <th>4</th>\n",
              "      <td>2011-07-11</td>\n",
              "      <td>17600.0</td>\n",
              "      <td>17600.0</td>\n",
              "      <td>16420.0</td>\n",
              "      <td>16640.0</td>\n",
              "      <td>78787450</td>\n",
              "    </tr>\n",
              "  </tbody>\n",
              "</table>\n",
              "</div>"
            ],
            "text/plain": [
              "        Date     Open     High      Low    Close    Volume\n",
              "0 2011-06-13  16880.0  17460.0  16060.0  16380.0  86986900\n",
              "1 2011-06-20  16260.0  17080.0  15900.0  17040.0  96266850\n",
              "2 2011-06-27  16940.0  17200.0  16420.0  17100.0  76047550\n",
              "3 2011-07-04  17400.0  17980.0  17380.0  17700.0  83693400\n",
              "4 2011-07-11  17600.0  17600.0  16420.0  16640.0  78787450"
            ]
          },
          "metadata": {
            "tags": []
          },
          "execution_count": 7
        }
      ]
    },
    {
      "cell_type": "code",
      "metadata": {
        "id": "KExJJkiNNvb-"
      },
      "source": [
        "x=df[['Open','High','Low','Volume']]\n",
        "y=df['Close']"
      ],
      "execution_count": 8,
      "outputs": []
    },
    {
      "cell_type": "code",
      "metadata": {
        "id": "GjStJjuMOd5G"
      },
      "source": [
        "x_train,x_test,y_train,y_test=train_test_split(x,y,random_state=0)"
      ],
      "execution_count": 9,
      "outputs": []
    },
    {
      "cell_type": "code",
      "metadata": {
        "colab": {
          "base_uri": "https://localhost:8080/"
        },
        "id": "09VAIwdiOzNH",
        "outputId": "e644aacc-db36-4f69-a316-599196854314"
      },
      "source": [
        "x_train.shape"
      ],
      "execution_count": 10,
      "outputs": [
        {
          "output_type": "execute_result",
          "data": {
            "text/plain": [
              "(392, 4)"
            ]
          },
          "metadata": {
            "tags": []
          },
          "execution_count": 10
        }
      ]
    },
    {
      "cell_type": "code",
      "metadata": {
        "colab": {
          "base_uri": "https://localhost:8080/"
        },
        "id": "S5COw_FIO41R",
        "outputId": "2689a219-d54c-4d2a-f7f8-9d088bcdfda5"
      },
      "source": [
        "x_test.shape"
      ],
      "execution_count": 11,
      "outputs": [
        {
          "output_type": "execute_result",
          "data": {
            "text/plain": [
              "(131, 4)"
            ]
          },
          "metadata": {
            "tags": []
          },
          "execution_count": 11
        }
      ]
    },
    {
      "cell_type": "code",
      "metadata": {
        "id": "JXOfilNo4zof"
      },
      "source": [
        "from sklearn.linear_model import ElasticNet"
      ],
      "execution_count": 12,
      "outputs": []
    },
    {
      "cell_type": "code",
      "metadata": {
        "id": "7wRrM3YAPKc1"
      },
      "source": [
        "from sklearn.linear_model import LinearRegression\n",
        "from sklearn.metrics import confusion_matrix,accuracy_score\n",
        "regressor=ElasticNet(alpha=1.0, l1_ratio=0.5)\n"
      ],
      "execution_count": 13,
      "outputs": []
    },
    {
      "cell_type": "code",
      "metadata": {
        "colab": {
          "base_uri": "https://localhost:8080/"
        },
        "id": "RvTIBkycPdZY",
        "outputId": "d57ceac6-fef3-45bd-9ef5-99f28f95f6c5"
      },
      "source": [
        "regressor.fit(x_train,y_train)"
      ],
      "execution_count": 14,
      "outputs": [
        {
          "output_type": "stream",
          "text": [
            "/usr/local/lib/python3.7/dist-packages/sklearn/linear_model/_coordinate_descent.py:476: ConvergenceWarning: Objective did not converge. You might want to increase the number of iterations. Duality gap: 77389882.35682392, tolerance: 9687678.312653061\n",
            "  positive)\n"
          ],
          "name": "stderr"
        },
        {
          "output_type": "execute_result",
          "data": {
            "text/plain": [
              "ElasticNet(alpha=1.0, copy_X=True, fit_intercept=True, l1_ratio=0.5,\n",
              "           max_iter=1000, normalize=False, positive=False, precompute=False,\n",
              "           random_state=None, selection='cyclic', tol=0.0001, warm_start=False)"
            ]
          },
          "metadata": {
            "tags": []
          },
          "execution_count": 14
        }
      ]
    },
    {
      "cell_type": "code",
      "metadata": {
        "colab": {
          "base_uri": "https://localhost:8080/"
        },
        "id": "aa8VSc8KQGkH",
        "outputId": "0007b821-219c-496f-9dbd-0b267035ce5a"
      },
      "source": [
        "print(regressor.coef_)"
      ],
      "execution_count": 15,
      "outputs": [
        {
          "output_type": "stream",
          "text": [
            "[-5.87624172e-01  1.00861028e+00  5.67125587e-01 -6.65251064e-06]\n"
          ],
          "name": "stdout"
        }
      ]
    },
    {
      "cell_type": "code",
      "metadata": {
        "colab": {
          "base_uri": "https://localhost:8080/"
        },
        "id": "wsc1ybXQQLCM",
        "outputId": "ef885251-8f13-4d1c-9b85-8eec200ac0ef"
      },
      "source": [
        "print(regressor.intercept_)"
      ],
      "execution_count": 16,
      "outputs": [
        {
          "output_type": "stream",
          "text": [
            "438.46795561558247\n"
          ],
          "name": "stdout"
        }
      ]
    },
    {
      "cell_type": "code",
      "metadata": {
        "id": "MicPJhdfQqKs"
      },
      "source": [
        "predicted=regressor.predict(x_test)"
      ],
      "execution_count": 17,
      "outputs": []
    },
    {
      "cell_type": "code",
      "metadata": {
        "colab": {
          "base_uri": "https://localhost:8080/"
        },
        "id": "tyK0D3VgQwMP",
        "outputId": "4a992a37-36b9-4363-b2f3-7f9b0c712e65"
      },
      "source": [
        "print(x_test)"
      ],
      "execution_count": 18,
      "outputs": [
        {
          "output_type": "stream",
          "text": [
            "        Open     High      Low     Volume\n",
            "15   15200.0  16960.0  15180.0  118318100\n",
            "78   30120.0  30720.0  29380.0   85543650\n",
            "137  25860.0  26080.0  25460.0   44229500\n",
            "264  29280.0  29500.0  28240.0   57607850\n",
            "113  24600.0  26020.0  24500.0   55491750\n",
            "..       ...      ...      ...        ...\n",
            "71   25540.0  26440.0  25520.0   60124150\n",
            "473  54000.0  55900.0  52300.0  101050903\n",
            "6    17000.0  17040.0  16520.0   59548450\n",
            "8    15400.0  15780.0  13760.0  202264800\n",
            "319  50700.0  51000.0  47380.0   66752950\n",
            "\n",
            "[131 rows x 4 columns]\n"
          ],
          "name": "stdout"
        }
      ]
    },
    {
      "cell_type": "code",
      "metadata": {
        "colab": {
          "base_uri": "https://localhost:8080/"
        },
        "id": "uRp9DAmDQ8md",
        "outputId": "1202599b-ee81-44b2-8675-b17301f8c2af"
      },
      "source": [
        "predicted.shape"
      ],
      "execution_count": 19,
      "outputs": [
        {
          "output_type": "execute_result",
          "data": {
            "text/plain": [
              "(131,)"
            ]
          },
          "metadata": {
            "tags": []
          },
          "execution_count": 19
        }
      ]
    },
    {
      "cell_type": "code",
      "metadata": {
        "id": "jUwZ9_f8Q-pJ"
      },
      "source": [
        "dframe=pd.DataFrame(y_test,predicted)\n"
      ],
      "execution_count": 20,
      "outputs": []
    },
    {
      "cell_type": "code",
      "metadata": {
        "id": "P7-Gl4q3RIdA"
      },
      "source": [
        "dfr=pd.DataFrame({'Actual Price':y_test, 'Predicted Price':predicted})"
      ],
      "execution_count": 21,
      "outputs": []
    },
    {
      "cell_type": "code",
      "metadata": {
        "colab": {
          "base_uri": "https://localhost:8080/"
        },
        "id": "Hxa8iI-LRePg",
        "outputId": "e05bf3dd-1ce8-4fd1-ce24-2b5b6aa7768c"
      },
      "source": [
        "print(dfr)"
      ],
      "execution_count": 22,
      "outputs": [
        {
          "output_type": "stream",
          "text": [
            "     Actual Price  Predicted Price\n",
            "15        16800.0     16434.464928\n",
            "78        30300.0     29816.805486\n",
            "137       25600.0     25691.843268\n",
            "264       29200.0     28619.225283\n",
            "113       25900.0     25752.370306\n",
            "..            ...              ...\n",
            "71        25740.0     26171.270912\n",
            "473       52700.0     54076.503467\n",
            "6         16880.0     16608.344250\n",
            "8         14140.0     13763.005311\n",
            "319       47760.0     48511.382459\n",
            "\n",
            "[131 rows x 2 columns]\n"
          ],
          "name": "stdout"
        }
      ]
    },
    {
      "cell_type": "code",
      "metadata": {
        "id": "YFAwed1iRt0V"
      },
      "source": [
        "from sklearn.metrics import confusion_matrix,accuracy_score\n"
      ],
      "execution_count": 23,
      "outputs": []
    },
    {
      "cell_type": "code",
      "metadata": {
        "colab": {
          "base_uri": "https://localhost:8080/"
        },
        "id": "ZmRu4XGBSHv4",
        "outputId": "ecb3b600-2c5e-437d-e559-c4d3a94920a5"
      },
      "source": [
        "regressor.score(x_test,y_test)"
      ],
      "execution_count": 24,
      "outputs": [
        {
          "output_type": "execute_result",
          "data": {
            "text/plain": [
              "0.9983184654651536"
            ]
          },
          "metadata": {
            "tags": []
          },
          "execution_count": 24
        }
      ]
    },
    {
      "cell_type": "code",
      "metadata": {
        "id": "nGQ2KsCVSJpk"
      },
      "source": [
        "import math"
      ],
      "execution_count": 25,
      "outputs": []
    },
    {
      "cell_type": "code",
      "metadata": {
        "colab": {
          "base_uri": "https://localhost:8080/"
        },
        "id": "g5guXR8xSMbd",
        "outputId": "4e7fa03b-6423-42aa-c365-6026fefc2629"
      },
      "source": [
        "print('Mean Absolute Error:',metrics.mean_absolute_error(y_test,predicted))"
      ],
      "execution_count": 26,
      "outputs": [
        {
          "output_type": "stream",
          "text": [
            "Mean Absolute Error: 458.36284258822457\n"
          ],
          "name": "stdout"
        }
      ]
    },
    {
      "cell_type": "code",
      "metadata": {
        "colab": {
          "base_uri": "https://localhost:8080/"
        },
        "id": "KJ0e0erxSpBT",
        "outputId": "5293ed55-c087-4584-bc88-b1353a105752"
      },
      "source": [
        "print('Mean Square Error:',metrics.mean_squared_error(y_test,predicted))"
      ],
      "execution_count": 27,
      "outputs": [
        {
          "output_type": "stream",
          "text": [
            "Mean Square Error: 457516.3411431544\n"
          ],
          "name": "stdout"
        }
      ]
    },
    {
      "cell_type": "code",
      "metadata": {
        "colab": {
          "base_uri": "https://localhost:8080/"
        },
        "id": "wwjIeQWUSyJ0",
        "outputId": "c5ece829-1660-43c9-f28a-5d71a2b719f0"
      },
      "source": [
        "print('Root Mean Absolute Error:',math.sqrt(metrics.mean_absolute_error(y_test,predicted)))"
      ],
      "execution_count": 28,
      "outputs": [
        {
          "output_type": "stream",
          "text": [
            "Root Mean Absolute Error: 21.409410141062377\n"
          ],
          "name": "stdout"
        }
      ]
    },
    {
      "cell_type": "code",
      "metadata": {
        "id": "s6xgAc8tTFI0"
      },
      "source": [
        "graph=dfr.head(30)"
      ],
      "execution_count": 29,
      "outputs": []
    },
    {
      "cell_type": "code",
      "metadata": {
        "colab": {
          "base_uri": "https://localhost:8080/",
          "height": 291
        },
        "id": "m7bLQgDHTKYV",
        "outputId": "cd5ae4b9-ca67-4ba3-9ddc-4e031297c185"
      },
      "source": [
        "graph.plot(kind='bar')"
      ],
      "execution_count": 30,
      "outputs": [
        {
          "output_type": "execute_result",
          "data": {
            "text/plain": [
              "<matplotlib.axes._subplots.AxesSubplot at 0x7f9ffd580bd0>"
            ]
          },
          "metadata": {
            "tags": []
          },
          "execution_count": 30
        },
        {
          "output_type": "display_data",
          "data": {
            "image/png": "[encoded data removed]",
            "text/plain": [
              "<Figure size 432x288 with 1 Axes>"
            ]
          },
          "metadata": {
            "tags": [],
            "needs_background": "light"
          }
        }
      ]
    }
  ]
}