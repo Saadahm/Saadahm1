{
  "nbformat": 4,
  "nbformat_minor": 0,
  "metadata": {
    "colab": {
      "name": "Moving Averages Samsung.ipynb",
      "provenance": [],
      "authorship_tag": "ABX9TyMCPu82xJ6X+H7wfuMj7zGP",
      "include_colab_link": true
    },
    "kernelspec": {
      "name": "python3",
      "display_name": "Python 3"
    },
    "language_info": {
      "name": "python"
    }
  },
  "cells": [
    {
      "cell_type": "markdown",
      "metadata": {
        "id": "view-in-github",
        "colab_type": "text"
      },
      "source": [
        "<a href=\"https://colab.research.google.com/github/Saadahm/Saadahm1/blob/main/Moving_Averages_Samsung.ipynb\" target=\"_parent\"><img src=\"https://colab.research.google.com/assets/colab-badge.svg\" alt=\"Open In Colab\"/></a>"
      ]
    },
    {
      "cell_type": "code",
      "metadata": {
        "id": "bL7Mrv3xoxf5"
      },
      "source": [
        "import sklearn\n",
        "from sklearn.model_selection import train_test_split\n",
        "from sklearn.linear_model import LinearRegression\n",
        "from sklearn import metrics"
      ],
      "execution_count": 138,
      "outputs": []
    },
    {
      "cell_type": "code",
      "metadata": {
        "id": "d9MPgXIxo8vF"
      },
      "source": [
        "import pandas as pd\n",
        "import numpy as np\n",
        "import matplotlib.pyplot as plt\n",
        "df=pd.read_csv('005930.KS.csv')\n"
      ],
      "execution_count": 139,
      "outputs": []
    },
    {
      "cell_type": "code",
      "metadata": {
        "colab": {
          "base_uri": "https://localhost:8080/",
          "height": 297
        },
        "id": "-dXLbiJDpFGe",
        "outputId": "a52ec585-cd37-4d2f-97bb-72262a5626fe"
      },
      "source": [
        "df.describe()"
      ],
      "execution_count": 140,
      "outputs": [
        {
          "output_type": "execute_result",
          "data": {
            "text/html": [
              "<div>\n",
              "<style scoped>\n",
              "    .dataframe tbody tr th:only-of-type {\n",
              "        vertical-align: middle;\n",
              "    }\n",
              "\n",
              "    .dataframe tbody tr th {\n",
              "        vertical-align: top;\n",
              "    }\n",
              "\n",
              "    .dataframe thead th {\n",
              "        text-align: right;\n",
              "    }\n",
              "</style>\n",
              "<table border=\"1\" class=\"dataframe\">\n",
              "  <thead>\n",
              "    <tr style=\"text-align: right;\">\n",
              "      <th></th>\n",
              "      <th>Open</th>\n",
              "      <th>High</th>\n",
              "      <th>Low</th>\n",
              "      <th>Close</th>\n",
              "      <th>Adj Close</th>\n",
              "      <th>Volume</th>\n",
              "    </tr>\n",
              "  </thead>\n",
              "  <tbody>\n",
              "    <tr>\n",
              "      <th>count</th>\n",
              "      <td>523.000000</td>\n",
              "      <td>523.000000</td>\n",
              "      <td>523.000000</td>\n",
              "      <td>523.000000</td>\n",
              "      <td>523.000000</td>\n",
              "      <td>5.230000e+02</td>\n",
              "    </tr>\n",
              "    <tr>\n",
              "      <th>mean</th>\n",
              "      <td>37824.015296</td>\n",
              "      <td>38890.114723</td>\n",
              "      <td>36915.908222</td>\n",
              "      <td>37928.661568</td>\n",
              "      <td>34140.940932</td>\n",
              "      <td>6.744126e+07</td>\n",
              "    </tr>\n",
              "    <tr>\n",
              "      <th>std</th>\n",
              "      <td>15916.738290</td>\n",
              "      <td>16371.771449</td>\n",
              "      <td>15559.271241</td>\n",
              "      <td>15935.509185</td>\n",
              "      <td>16596.217493</td>\n",
              "      <td>2.931286e+07</td>\n",
              "    </tr>\n",
              "    <tr>\n",
              "      <th>min</th>\n",
              "      <td>13680.000000</td>\n",
              "      <td>14760.000000</td>\n",
              "      <td>13440.000000</td>\n",
              "      <td>13600.000000</td>\n",
              "      <td>11175.750000</td>\n",
              "      <td>0.000000e+00</td>\n",
              "    </tr>\n",
              "    <tr>\n",
              "      <th>25%</th>\n",
              "      <td>25810.000000</td>\n",
              "      <td>26520.000000</td>\n",
              "      <td>25240.000000</td>\n",
              "      <td>25770.000000</td>\n",
              "      <td>21741.436524</td>\n",
              "      <td>4.856692e+07</td>\n",
              "    </tr>\n",
              "    <tr>\n",
              "      <th>50%</th>\n",
              "      <td>30360.000000</td>\n",
              "      <td>31160.000000</td>\n",
              "      <td>29780.000000</td>\n",
              "      <td>30540.000000</td>\n",
              "      <td>25453.410156</td>\n",
              "      <td>6.066430e+07</td>\n",
              "    </tr>\n",
              "    <tr>\n",
              "      <th>75%</th>\n",
              "      <td>47500.000000</td>\n",
              "      <td>49250.000000</td>\n",
              "      <td>46490.000000</td>\n",
              "      <td>47730.000000</td>\n",
              "      <td>43727.035157</td>\n",
              "      <td>7.755890e+07</td>\n",
              "    </tr>\n",
              "    <tr>\n",
              "      <th>max</th>\n",
              "      <td>90000.000000</td>\n",
              "      <td>96800.000000</td>\n",
              "      <td>87800.000000</td>\n",
              "      <td>88800.000000</td>\n",
              "      <td>88407.148438</td>\n",
              "      <td>2.348832e+08</td>\n",
              "    </tr>\n",
              "  </tbody>\n",
              "</table>\n",
              "</div>"
            ],
            "text/plain": [
              "               Open          High  ...     Adj Close        Volume\n",
              "count    523.000000    523.000000  ...    523.000000  5.230000e+02\n",
              "mean   37824.015296  38890.114723  ...  34140.940932  6.744126e+07\n",
              "std    15916.738290  16371.771449  ...  16596.217493  2.931286e+07\n",
              "min    13680.000000  14760.000000  ...  11175.750000  0.000000e+00\n",
              "25%    25810.000000  26520.000000  ...  21741.436524  4.856692e+07\n",
              "50%    30360.000000  31160.000000  ...  25453.410156  6.066430e+07\n",
              "75%    47500.000000  49250.000000  ...  43727.035157  7.755890e+07\n",
              "max    90000.000000  96800.000000  ...  88407.148438  2.348832e+08\n",
              "\n",
              "[8 rows x 6 columns]"
            ]
          },
          "metadata": {
            "tags": []
          },
          "execution_count": 140
        }
      ]
    },
    {
      "cell_type": "code",
      "metadata": {
        "colab": {
          "base_uri": "https://localhost:8080/",
          "height": 204
        },
        "id": "1VnWZJktpJgs",
        "outputId": "5e80aa94-cda6-4e9a-8493-a60fbe79f336"
      },
      "source": [
        "df.head()"
      ],
      "execution_count": 141,
      "outputs": [
        {
          "output_type": "execute_result",
          "data": {
            "text/html": [
              "<div>\n",
              "<style scoped>\n",
              "    .dataframe tbody tr th:only-of-type {\n",
              "        vertical-align: middle;\n",
              "    }\n",
              "\n",
              "    .dataframe tbody tr th {\n",
              "        vertical-align: top;\n",
              "    }\n",
              "\n",
              "    .dataframe thead th {\n",
              "        text-align: right;\n",
              "    }\n",
              "</style>\n",
              "<table border=\"1\" class=\"dataframe\">\n",
              "  <thead>\n",
              "    <tr style=\"text-align: right;\">\n",
              "      <th></th>\n",
              "      <th>Date</th>\n",
              "      <th>Open</th>\n",
              "      <th>High</th>\n",
              "      <th>Low</th>\n",
              "      <th>Close</th>\n",
              "      <th>Adj Close</th>\n",
              "      <th>Volume</th>\n",
              "    </tr>\n",
              "  </thead>\n",
              "  <tbody>\n",
              "    <tr>\n",
              "      <th>0</th>\n",
              "      <td>2011-06-13</td>\n",
              "      <td>16880.0</td>\n",
              "      <td>17460.0</td>\n",
              "      <td>16060.0</td>\n",
              "      <td>16380.0</td>\n",
              "      <td>13452.113281</td>\n",
              "      <td>86986900</td>\n",
              "    </tr>\n",
              "    <tr>\n",
              "      <th>1</th>\n",
              "      <td>2011-06-20</td>\n",
              "      <td>16260.0</td>\n",
              "      <td>17080.0</td>\n",
              "      <td>15900.0</td>\n",
              "      <td>17040.0</td>\n",
              "      <td>13994.144531</td>\n",
              "      <td>96266850</td>\n",
              "    </tr>\n",
              "    <tr>\n",
              "      <th>2</th>\n",
              "      <td>2011-06-27</td>\n",
              "      <td>16940.0</td>\n",
              "      <td>17200.0</td>\n",
              "      <td>16420.0</td>\n",
              "      <td>17100.0</td>\n",
              "      <td>14043.418945</td>\n",
              "      <td>76047550</td>\n",
              "    </tr>\n",
              "    <tr>\n",
              "      <th>3</th>\n",
              "      <td>2011-07-04</td>\n",
              "      <td>17400.0</td>\n",
              "      <td>17980.0</td>\n",
              "      <td>17380.0</td>\n",
              "      <td>17700.0</td>\n",
              "      <td>14544.911133</td>\n",
              "      <td>83693400</td>\n",
              "    </tr>\n",
              "    <tr>\n",
              "      <th>4</th>\n",
              "      <td>2011-07-11</td>\n",
              "      <td>17600.0</td>\n",
              "      <td>17600.0</td>\n",
              "      <td>16420.0</td>\n",
              "      <td>16640.0</td>\n",
              "      <td>13673.856445</td>\n",
              "      <td>78787450</td>\n",
              "    </tr>\n",
              "  </tbody>\n",
              "</table>\n",
              "</div>"
            ],
            "text/plain": [
              "         Date     Open     High      Low    Close     Adj Close    Volume\n",
              "0  2011-06-13  16880.0  17460.0  16060.0  16380.0  13452.113281  86986900\n",
              "1  2011-06-20  16260.0  17080.0  15900.0  17040.0  13994.144531  96266850\n",
              "2  2011-06-27  16940.0  17200.0  16420.0  17100.0  14043.418945  76047550\n",
              "3  2011-07-04  17400.0  17980.0  17380.0  17700.0  14544.911133  83693400\n",
              "4  2011-07-11  17600.0  17600.0  16420.0  16640.0  13673.856445  78787450"
            ]
          },
          "metadata": {
            "tags": []
          },
          "execution_count": 141
        }
      ]
    },
    {
      "cell_type": "code",
      "metadata": {
        "id": "L1AGeCIe2PxB"
      },
      "source": [
        "\n",
        "x=df[['Open','High','Low','Volume']]\n",
        "y=df['Close']"
      ],
      "execution_count": 142,
      "outputs": []
    },
    {
      "cell_type": "code",
      "metadata": {
        "id": "SktzeqFKpiiY"
      },
      "source": [
        "import matplotlib.pyplot as plt\n",
        "df['Date'] = pd.to_datetime(df.Date)\n",
        "df.index=df['Date']\n",
        "df\n",
        "train_size=(int)(0.2*len(df.index))\n",
        "test_size=len(df.index)-train_size\n",
        "\n"
      ],
      "execution_count": 143,
      "outputs": []
    },
    {
      "cell_type": "code",
      "metadata": {
        "id": "kTzmCNM6peaV"
      },
      "source": [
        "x_train,x_test,y_train,y_test=train_test_split(x,y,random_state=0)"
      ],
      "execution_count": 144,
      "outputs": []
    },
    {
      "cell_type": "code",
      "metadata": {
        "id": "O3iGg5SBrNMP"
      },
      "source": [
        "\n",
        "df1 = pd.DataFrame(index=np.arange(len(df.index)))\n",
        "df.sort_index(inplace=True)\n",
        "df1.index=df['Date']\n",
        "\n",
        "\n"
      ],
      "execution_count": 145,
      "outputs": []
    },
    {
      "cell_type": "code",
      "metadata": {
        "id": "sStoL3hs19Iq"
      },
      "source": [
        "from sklearn.metrics import confusion_matrix,accuracy_score\n"
      ],
      "execution_count": 146,
      "outputs": []
    },
    {
      "cell_type": "code",
      "metadata": {
        "id": "O-v5UiZ4xLDp"
      },
      "source": [
        "#sc_X=StandardScaler()\n",
        "#x_train=sc_X.fit_transform(x_train)\n",
        "#x_test=sc_X.fit_transform(x_test)"
      ],
      "execution_count": 69,
      "outputs": []
    },
    {
      "cell_type": "code",
      "metadata": {
        "id": "lKkR89_Dw3GL"
      },
      "source": [
        "df1['Date']=pd.Series(df['Date'])\n",
        "df1['Close']=pd.Series(df['Adj Close'])"
      ],
      "execution_count": 147,
      "outputs": []
    },
    {
      "cell_type": "code",
      "metadata": {
        "id": "kvA99y2mw5jn"
      },
      "source": [
        "x_train=df1.iloc[:x1_train][:]\n",
        "x_test=df1.iloc[x1_train:][:]\n",
        "x_train.shape\n",
        "predicted=[]\n",
        "\n",
        "#for i in range(0,test_1.shape[0]):\n",
        "  #  predicted1 = x_train['AdjClose'][len(x_train)-test_size+i:].sum() + sum(predicted)\n",
        "for i in range(0,test_1.shape[0]):\n",
        "    predicted1 = x_train['Close'][len(x_train)-test_size+i:].sum() + sum(predicted)\n",
        "    predicted.append(predicted1/test_size)"
      ],
      "execution_count": 148,
      "outputs": []
    },
    {
      "cell_type": "code",
      "metadata": {
        "id": "XmpCU3282axd"
      },
      "source": [
        "from sklearn.metrics import confusion_matrix,accuracy_score"
      ],
      "execution_count": 149,
      "outputs": []
    },
    {
      "cell_type": "code",
      "metadata": {
        "colab": {
          "base_uri": "https://localhost:8080/"
        },
        "id": "YZyhTsXIvYkQ",
        "outputId": "229f38ab-834f-4798-91e3-6880fa416314"
      },
      "source": [
        "print(sklearn.metrics.r2_score(test_1['Close'], predicted))"
      ],
      "execution_count": 150,
      "outputs": [
        {
          "output_type": "stream",
          "text": [
            "-183093.3598993183\n"
          ],
          "name": "stdout"
        }
      ]
    },
    {
      "cell_type": "code",
      "metadata": {
        "id": "EuaKW9IG18ox"
      },
      "source": [
        ""
      ],
      "execution_count": null,
      "outputs": []
    }
  ]
}