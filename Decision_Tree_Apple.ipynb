{
  "nbformat": 4,
  "nbformat_minor": 0,
  "metadata": {
    "colab": {
      "name": "Decision Tree Apple.ipynb",
      "provenance": [],
      "authorship_tag": "ABX9TyMVgaue7ScCXfFHiXzhQW82",
      "include_colab_link": true
    },
    "kernelspec": {
      "name": "python3",
      "display_name": "Python 3"
    },
    "language_info": {
      "name": "python"
    }
  },
  "cells": [
    {
      "cell_type": "markdown",
      "metadata": {
        "id": "view-in-github",
        "colab_type": "text"
      },
      "source": [
        "<a href=\"https://colab.research.google.com/github/Saadahm/Saadahm1/blob/main/Decision_Tree_Apple.ipynb\" target=\"_parent\"><img src=\"https://colab.research.google.com/assets/colab-badge.svg\" alt=\"Open In Colab\"/></a>"
      ]
    },
    {
      "cell_type": "code",
      "metadata": {
        "id": "KeqGn3h9dyoG"
      },
      "source": [
        "import pandas as pd\n",
        "import numpy as np\n",
        "import matplotlib.pyplot as plt\n",
        "df=pd.read_csv('AAPL.csv')"
      ],
      "execution_count": 39,
      "outputs": []
    },
    {
      "cell_type": "code",
      "metadata": {
        "colab": {
          "base_uri": "https://localhost:8080/",
          "height": 204
        },
        "id": "TJo0sNapePuy",
        "outputId": "907101ab-f77c-4232-eada-9713854df12e"
      },
      "source": [
        "df.head()"
      ],
      "execution_count": 40,
      "outputs": [
        {
          "output_type": "execute_result",
          "data": {
            "text/html": [
              "<div>\n",
              "<style scoped>\n",
              "    .dataframe tbody tr th:only-of-type {\n",
              "        vertical-align: middle;\n",
              "    }\n",
              "\n",
              "    .dataframe tbody tr th {\n",
              "        vertical-align: top;\n",
              "    }\n",
              "\n",
              "    .dataframe thead th {\n",
              "        text-align: right;\n",
              "    }\n",
              "</style>\n",
              "<table border=\"1\" class=\"dataframe\">\n",
              "  <thead>\n",
              "    <tr style=\"text-align: right;\">\n",
              "      <th></th>\n",
              "      <th>Date</th>\n",
              "      <th>Open</th>\n",
              "      <th>High</th>\n",
              "      <th>Low</th>\n",
              "      <th>Close</th>\n",
              "      <th>Adj Close</th>\n",
              "      <th>Volume</th>\n",
              "    </tr>\n",
              "  </thead>\n",
              "  <tbody>\n",
              "    <tr>\n",
              "      <th>0</th>\n",
              "      <td>2011-06-13</td>\n",
              "      <td>11.685714</td>\n",
              "      <td>11.901786</td>\n",
              "      <td>11.368929</td>\n",
              "      <td>11.437857</td>\n",
              "      <td>9.835445</td>\n",
              "      <td>2188849600</td>\n",
              "    </tr>\n",
              "    <tr>\n",
              "      <th>1</th>\n",
              "      <td>2011-06-20</td>\n",
              "      <td>11.334286</td>\n",
              "      <td>11.898214</td>\n",
              "      <td>11.089286</td>\n",
              "      <td>11.655357</td>\n",
              "      <td>10.022475</td>\n",
              "      <td>2524177600</td>\n",
              "    </tr>\n",
              "    <tr>\n",
              "      <th>2</th>\n",
              "      <td>2011-06-27</td>\n",
              "      <td>11.699643</td>\n",
              "      <td>12.267857</td>\n",
              "      <td>11.687500</td>\n",
              "      <td>12.259286</td>\n",
              "      <td>10.541796</td>\n",
              "      <td>1744926400</td>\n",
              "    </tr>\n",
              "    <tr>\n",
              "      <th>3</th>\n",
              "      <td>2011-07-04</td>\n",
              "      <td>12.250000</td>\n",
              "      <td>12.857143</td>\n",
              "      <td>12.232143</td>\n",
              "      <td>12.846786</td>\n",
              "      <td>11.046986</td>\n",
              "      <td>1688976800</td>\n",
              "    </tr>\n",
              "    <tr>\n",
              "      <th>4</th>\n",
              "      <td>2011-07-11</td>\n",
              "      <td>12.726429</td>\n",
              "      <td>13.035714</td>\n",
              "      <td>12.450714</td>\n",
              "      <td>13.032857</td>\n",
              "      <td>11.206989</td>\n",
              "      <td>2200923200</td>\n",
              "    </tr>\n",
              "  </tbody>\n",
              "</table>\n",
              "</div>"
            ],
            "text/plain": [
              "         Date       Open       High  ...      Close  Adj Close      Volume\n",
              "0  2011-06-13  11.685714  11.901786  ...  11.437857   9.835445  2188849600\n",
              "1  2011-06-20  11.334286  11.898214  ...  11.655357  10.022475  2524177600\n",
              "2  2011-06-27  11.699643  12.267857  ...  12.259286  10.541796  1744926400\n",
              "3  2011-07-04  12.250000  12.857143  ...  12.846786  11.046986  1688976800\n",
              "4  2011-07-11  12.726429  13.035714  ...  13.032857  11.206989  2200923200\n",
              "\n",
              "[5 rows x 7 columns]"
            ]
          },
          "metadata": {
            "tags": []
          },
          "execution_count": 40
        }
      ]
    },
    {
      "cell_type": "code",
      "metadata": {
        "colab": {
          "base_uri": "https://localhost:8080/"
        },
        "id": "iZDT2-ukeRmw",
        "outputId": "0032f2ac-e1ea-4982-916d-abc9aa24b21b"
      },
      "source": [
        "df.describe"
      ],
      "execution_count": 41,
      "outputs": [
        {
          "output_type": "execute_result",
          "data": {
            "text/plain": [
              "<bound method NDFrame.describe of            Date        Open        High  ...       Close   Adj Close      Volume\n",
              "0    2011-06-13   11.685714   11.901786  ...   11.437857    9.835445  2188849600\n",
              "1    2011-06-20   11.334286   11.898214  ...   11.655357   10.022475  2524177600\n",
              "2    2011-06-27   11.699643   12.267857  ...   12.259286   10.541796  1744926400\n",
              "3    2011-07-04   12.250000   12.857143  ...   12.846786   11.046986  1688976800\n",
              "4    2011-07-11   12.726429   13.035714  ...   13.032857   11.206989  2200923200\n",
              "..          ...         ...         ...  ...         ...         ...         ...\n",
              "518  2021-05-17  126.820000  128.000000  ...  125.430000  125.430000   386352000\n",
              "519  2021-05-24  126.010002  128.320007  ...  124.610001  124.610001   357615000\n",
              "520  2021-05-31  125.080002  126.160004  ...  125.889999  125.889999   278232500\n",
              "521  2021-06-07  126.169998  128.460007  ...  127.349998  127.349998   326941000\n",
              "522  2021-06-11  126.529999  127.440002  ...  127.349998  127.349998    53522373\n",
              "\n",
              "[523 rows x 7 columns]>"
            ]
          },
          "metadata": {
            "tags": []
          },
          "execution_count": 41
        }
      ]
    },
    {
      "cell_type": "code",
      "metadata": {
        "colab": {
          "base_uri": "https://localhost:8080/",
          "height": 204
        },
        "id": "4jiCRKOye_07",
        "outputId": "dd74fb5a-a28b-4b90-d9cb-4b4c27f1cd43"
      },
      "source": [
        "df.head()"
      ],
      "execution_count": 42,
      "outputs": [
        {
          "output_type": "execute_result",
          "data": {
            "text/html": [
              "<div>\n",
              "<style scoped>\n",
              "    .dataframe tbody tr th:only-of-type {\n",
              "        vertical-align: middle;\n",
              "    }\n",
              "\n",
              "    .dataframe tbody tr th {\n",
              "        vertical-align: top;\n",
              "    }\n",
              "\n",
              "    .dataframe thead th {\n",
              "        text-align: right;\n",
              "    }\n",
              "</style>\n",
              "<table border=\"1\" class=\"dataframe\">\n",
              "  <thead>\n",
              "    <tr style=\"text-align: right;\">\n",
              "      <th></th>\n",
              "      <th>Date</th>\n",
              "      <th>Open</th>\n",
              "      <th>High</th>\n",
              "      <th>Low</th>\n",
              "      <th>Close</th>\n",
              "      <th>Adj Close</th>\n",
              "      <th>Volume</th>\n",
              "    </tr>\n",
              "  </thead>\n",
              "  <tbody>\n",
              "    <tr>\n",
              "      <th>0</th>\n",
              "      <td>2011-06-13</td>\n",
              "      <td>11.685714</td>\n",
              "      <td>11.901786</td>\n",
              "      <td>11.368929</td>\n",
              "      <td>11.437857</td>\n",
              "      <td>9.835445</td>\n",
              "      <td>2188849600</td>\n",
              "    </tr>\n",
              "    <tr>\n",
              "      <th>1</th>\n",
              "      <td>2011-06-20</td>\n",
              "      <td>11.334286</td>\n",
              "      <td>11.898214</td>\n",
              "      <td>11.089286</td>\n",
              "      <td>11.655357</td>\n",
              "      <td>10.022475</td>\n",
              "      <td>2524177600</td>\n",
              "    </tr>\n",
              "    <tr>\n",
              "      <th>2</th>\n",
              "      <td>2011-06-27</td>\n",
              "      <td>11.699643</td>\n",
              "      <td>12.267857</td>\n",
              "      <td>11.687500</td>\n",
              "      <td>12.259286</td>\n",
              "      <td>10.541796</td>\n",
              "      <td>1744926400</td>\n",
              "    </tr>\n",
              "    <tr>\n",
              "      <th>3</th>\n",
              "      <td>2011-07-04</td>\n",
              "      <td>12.250000</td>\n",
              "      <td>12.857143</td>\n",
              "      <td>12.232143</td>\n",
              "      <td>12.846786</td>\n",
              "      <td>11.046986</td>\n",
              "      <td>1688976800</td>\n",
              "    </tr>\n",
              "    <tr>\n",
              "      <th>4</th>\n",
              "      <td>2011-07-11</td>\n",
              "      <td>12.726429</td>\n",
              "      <td>13.035714</td>\n",
              "      <td>12.450714</td>\n",
              "      <td>13.032857</td>\n",
              "      <td>11.206989</td>\n",
              "      <td>2200923200</td>\n",
              "    </tr>\n",
              "  </tbody>\n",
              "</table>\n",
              "</div>"
            ],
            "text/plain": [
              "         Date       Open       High  ...      Close  Adj Close      Volume\n",
              "0  2011-06-13  11.685714  11.901786  ...  11.437857   9.835445  2188849600\n",
              "1  2011-06-20  11.334286  11.898214  ...  11.655357  10.022475  2524177600\n",
              "2  2011-06-27  11.699643  12.267857  ...  12.259286  10.541796  1744926400\n",
              "3  2011-07-04  12.250000  12.857143  ...  12.846786  11.046986  1688976800\n",
              "4  2011-07-11  12.726429  13.035714  ...  13.032857  11.206989  2200923200\n",
              "\n",
              "[5 rows x 7 columns]"
            ]
          },
          "metadata": {
            "tags": []
          },
          "execution_count": 42
        }
      ]
    },
    {
      "cell_type": "code",
      "metadata": {
        "id": "8yAYcFZ7jrhd"
      },
      "source": [
        "df['Date']=pd.to_datetime(df.Date)\n"
      ],
      "execution_count": 43,
      "outputs": []
    },
    {
      "cell_type": "code",
      "metadata": {
        "id": "fBi5anHuheCJ"
      },
      "source": [
        "df=df.drop(columns=['Date'])"
      ],
      "execution_count": 44,
      "outputs": []
    },
    {
      "cell_type": "code",
      "metadata": {
        "id": "QWBy_t5xf6V9"
      },
      "source": [
        "from sklearn.model_selection import train_test_split\n",
        "from sklearn import metrics\n",
        "from sklearn.metrics import confusion_matrix\n",
        "from sklearn.metrics import f1_score\n",
        "from sklearn.metrics import accuracy_score\n"
      ],
      "execution_count": 45,
      "outputs": []
    },
    {
      "cell_type": "code",
      "metadata": {
        "id": "u0UI9iCEfdHC"
      },
      "source": [
        "x=df.iloc[:,0:df.shape[1]-1].values\n",
        "y=df.iloc[:,df.shape[1]-1].values"
      ],
      "execution_count": 46,
      "outputs": []
    },
    {
      "cell_type": "code",
      "metadata": {
        "id": "N2fL73pLfdOZ"
      },
      "source": [
        "x_train,x_test,y_train,y_test=train_test_split(x,y,test_size=0.2,random_state=0)"
      ],
      "execution_count": 47,
      "outputs": []
    },
    {
      "cell_type": "code",
      "metadata": {
        "id": "g7O7BC3tgWYR"
      },
      "source": [
        "from sklearn.tree import DecisionTreeClassifier"
      ],
      "execution_count": 48,
      "outputs": []
    },
    {
      "cell_type": "code",
      "metadata": {
        "id": "qwi72oBfij2o"
      },
      "source": [
        ""
      ],
      "execution_count": 12,
      "outputs": []
    },
    {
      "cell_type": "code",
      "metadata": {
        "id": "bSmOxafKjegp"
      },
      "source": [
        "clf = DecisionTreeClassifier(random_state=0)"
      ],
      "execution_count": 49,
      "outputs": []
    },
    {
      "cell_type": "code",
      "metadata": {
        "colab": {
          "base_uri": "https://localhost:8080/"
        },
        "id": "Mub5ft2CgCww",
        "outputId": "683d6e5b-d482-4baa-c5dd-2334977cdded"
      },
      "source": [
        "clf.fit(x_train,y_train)\n",
        "#data['Date'] = pd.to_numeric(pd.to_datetime(data['Date']))\n"
      ],
      "execution_count": 50,
      "outputs": [
        {
          "output_type": "execute_result",
          "data": {
            "text/plain": [
              "DecisionTreeClassifier(ccp_alpha=0.0, class_weight=None, criterion='gini',\n",
              "                       max_depth=None, max_features=None, max_leaf_nodes=None,\n",
              "                       min_impurity_decrease=0.0, min_impurity_split=None,\n",
              "                       min_samples_leaf=1, min_samples_split=2,\n",
              "                       min_weight_fraction_leaf=0.0, presort='deprecated',\n",
              "                       random_state=0, splitter='best')"
            ]
          },
          "metadata": {
            "tags": []
          },
          "execution_count": 50
        }
      ]
    },
    {
      "cell_type": "code",
      "metadata": {
        "id": "3QuHmnSOKgFZ"
      },
      "source": [
        "y_pred=clf.predict(x_test)"
      ],
      "execution_count": 51,
      "outputs": []
    },
    {
      "cell_type": "code",
      "metadata": {
        "colab": {
          "base_uri": "https://localhost:8080/"
        },
        "id": "7IuTl33gKwYN",
        "outputId": "7d6501f8-295d-47ca-eafc-ced505df23a0"
      },
      "source": [
        "print(\"Accuracy is: \", metrics.accuracy_score(y_test,y_pred))"
      ],
      "execution_count": 52,
      "outputs": [
        {
          "output_type": "stream",
          "text": [
            "Accuracy is:  0.0\n"
          ],
          "name": "stdout"
        }
      ]
    },
    {
      "cell_type": "code",
      "metadata": {
        "colab": {
          "base_uri": "https://localhost:8080/"
        },
        "id": "PNOkC_o9LA3d",
        "outputId": "6a6c04cb-bb0b-4e98-8124-458662207102"
      },
      "source": [
        "y_pred[0:]"
      ],
      "execution_count": 53,
      "outputs": [
        {
          "output_type": "execute_result",
          "data": {
            "text/plain": [
              "array([1724562000, 3582726000, 1672025600, 1425130000, 2489043200,\n",
              "        650762400,  864199200,  355011600, 1470929600,  504117600,\n",
              "       1553594000,  995880800, 1312270400,  766394400,  549924400,\n",
              "        444178800, 1434159200,  745822400,  476635200,  495046000,\n",
              "        650762400, 1026284000, 1573639200, 1541106000, 2170820400,\n",
              "        556588800,  794100800,  364614800, 1758710800,  546670000,\n",
              "        793365600, 1145046000,  469474000,  745822400,  729373200,\n",
              "        814824400,  444178800, 1683889200, 1777140400, 1724562000,\n",
              "        745662000, 2186332400, 1046452400,  559410800,  544825600,\n",
              "       2952331200,  349566400, 1930238800,  607958400, 1488253200,\n",
              "        586977300,  864199200,  345543100,  356994000,  771441800,\n",
              "        421664800,  619427200, 1434159200,  546670000,  881222300,\n",
              "        814824400,  495648000,  538514000, 1540002400,  504514800,\n",
              "        386352000, 2188849600,  673265200, 3376402400,  544825600,\n",
              "        629419600,  582890400,  532002400, 1133010000, 1011222800,\n",
              "       1360357600,  477586000,  837010800,  546670000, 1521346000,\n",
              "       3376402400,  650762400,  508240800, 1292640000,  650762400,\n",
              "        498023200, 2006566800,  745662000,  605593600, 1603809200,\n",
              "        874984400,  422709600,  854999600,  453292000, 2489043200,\n",
              "        386352000, 2128442400,  447820500,  804382800,  649240000,\n",
              "        444178800,  499457600,  559410800, 1681918000,  497736000])"
            ]
          },
          "metadata": {
            "tags": []
          },
          "execution_count": 53
        }
      ]
    },
    {
      "cell_type": "code",
      "metadata": {
        "colab": {
          "base_uri": "https://localhost:8080/"
        },
        "id": "FfSw0NVqLN0_",
        "outputId": "5289a1d9-634e-4037-ee74-f9e66ac94c9b"
      },
      "source": [
        "print(clf.score(x_test,y_test))"
      ],
      "execution_count": 54,
      "outputs": [
        {
          "output_type": "stream",
          "text": [
            "0.0\n"
          ],
          "name": "stdout"
        }
      ]
    },
    {
      "cell_type": "code",
      "metadata": {
        "colab": {
          "base_uri": "https://localhost:8080/"
        },
        "id": "EhCd__faLdk3",
        "outputId": "ee2307af-24cd-4e3f-b371-9b6985d17118"
      },
      "source": [
        "tree_predictions=clf.predict(x_test)\n",
        "print(tree_predictions)"
      ],
      "execution_count": 55,
      "outputs": [
        {
          "output_type": "stream",
          "text": [
            "[1724562000 3582726000 1672025600 1425130000 2489043200  650762400\n",
            "  864199200  355011600 1470929600  504117600 1553594000  995880800\n",
            " 1312270400  766394400  549924400  444178800 1434159200  745822400\n",
            "  476635200  495046000  650762400 1026284000 1573639200 1541106000\n",
            " 2170820400  556588800  794100800  364614800 1758710800  546670000\n",
            "  793365600 1145046000  469474000  745822400  729373200  814824400\n",
            "  444178800 1683889200 1777140400 1724562000  745662000 2186332400\n",
            " 1046452400  559410800  544825600 2952331200  349566400 1930238800\n",
            "  607958400 1488253200  586977300  864199200  345543100  356994000\n",
            "  771441800  421664800  619427200 1434159200  546670000  881222300\n",
            "  814824400  495648000  538514000 1540002400  504514800  386352000\n",
            " 2188849600  673265200 3376402400  544825600  629419600  582890400\n",
            "  532002400 1133010000 1011222800 1360357600  477586000  837010800\n",
            "  546670000 1521346000 3376402400  650762400  508240800 1292640000\n",
            "  650762400  498023200 2006566800  745662000  605593600 1603809200\n",
            "  874984400  422709600  854999600  453292000 2489043200  386352000\n",
            " 2128442400  447820500  804382800  649240000  444178800  499457600\n",
            "  559410800 1681918000  497736000]\n"
          ],
          "name": "stdout"
        }
      ]
    }
  ]
}