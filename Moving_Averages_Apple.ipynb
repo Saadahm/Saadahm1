{
  "nbformat": 4,
  "nbformat_minor": 0,
  "metadata": {
    "colab": {
      "name": "Moving Averages Apple.ipynb",
      "provenance": [],
      "authorship_tag": "ABX9TyMjI6U6iiLM11oyWCGqxjoq",
      "include_colab_link": true
    },
    "kernelspec": {
      "name": "python3",
      "display_name": "Python 3"
    },
    "language_info": {
      "name": "python"
    }
  },
  "cells": [
    {
      "cell_type": "markdown",
      "metadata": {
        "id": "view-in-github",
        "colab_type": "text"
      },
      "source": [
        "<a href=\"https://colab.research.google.com/github/Saadahm/Saadahm1/blob/main/Moving_Averages_Apple.ipynb\" target=\"_parent\"><img src=\"https://colab.research.google.com/assets/colab-badge.svg\" alt=\"Open In Colab\"/></a>"
      ]
    },
    {
      "cell_type": "code",
      "metadata": {
        "id": "bL7Mrv3xoxf5"
      },
      "source": [
        "import sklearn\n",
        "from sklearn.model_selection import train_test_split\n",
        "from sklearn.linear_model import LinearRegression\n",
        "from sklearn import metrics"
      ],
      "execution_count": 125,
      "outputs": []
    },
    {
      "cell_type": "code",
      "metadata": {
        "id": "d9MPgXIxo8vF"
      },
      "source": [
        "import pandas as pd\n",
        "import numpy as np\n",
        "import matplotlib.pyplot as plt\n",
        "df=pd.read_csv('AAPL.csv')\n"
      ],
      "execution_count": 126,
      "outputs": []
    },
    {
      "cell_type": "code",
      "metadata": {
        "colab": {
          "base_uri": "https://localhost:8080/",
          "height": 297
        },
        "id": "-dXLbiJDpFGe",
        "outputId": "73ae830b-75c9-49a5-f359-88397bec2979"
      },
      "source": [
        "df.describe()"
      ],
      "execution_count": 127,
      "outputs": [
        {
          "output_type": "execute_result",
          "data": {
            "text/html": [
              "<div>\n",
              "<style scoped>\n",
              "    .dataframe tbody tr th:only-of-type {\n",
              "        vertical-align: middle;\n",
              "    }\n",
              "\n",
              "    .dataframe tbody tr th {\n",
              "        vertical-align: top;\n",
              "    }\n",
              "\n",
              "    .dataframe thead th {\n",
              "        text-align: right;\n",
              "    }\n",
              "</style>\n",
              "<table border=\"1\" class=\"dataframe\">\n",
              "  <thead>\n",
              "    <tr style=\"text-align: right;\">\n",
              "      <th></th>\n",
              "      <th>Open</th>\n",
              "      <th>High</th>\n",
              "      <th>Low</th>\n",
              "      <th>Close</th>\n",
              "      <th>Adj Close</th>\n",
              "      <th>Volume</th>\n",
              "    </tr>\n",
              "  </thead>\n",
              "  <tbody>\n",
              "    <tr>\n",
              "      <th>count</th>\n",
              "      <td>523.000000</td>\n",
              "      <td>523.000000</td>\n",
              "      <td>523.000000</td>\n",
              "      <td>523.000000</td>\n",
              "      <td>523.000000</td>\n",
              "      <td>5.230000e+02</td>\n",
              "    </tr>\n",
              "    <tr>\n",
              "      <th>mean</th>\n",
              "      <td>41.315260</td>\n",
              "      <td>42.562649</td>\n",
              "      <td>40.316071</td>\n",
              "      <td>41.523985</td>\n",
              "      <td>39.786268</td>\n",
              "      <td>1.152484e+09</td>\n",
              "    </tr>\n",
              "    <tr>\n",
              "      <th>std</th>\n",
              "      <td>30.491574</td>\n",
              "      <td>31.566297</td>\n",
              "      <td>29.586475</td>\n",
              "      <td>30.637048</td>\n",
              "      <td>31.238937</td>\n",
              "      <td>8.610701e+08</td>\n",
              "    </tr>\n",
              "    <tr>\n",
              "      <th>min</th>\n",
              "      <td>11.334286</td>\n",
              "      <td>11.898214</td>\n",
              "      <td>11.089286</td>\n",
              "      <td>11.437857</td>\n",
              "      <td>9.835445</td>\n",
              "      <td>5.352237e+07</td>\n",
              "    </tr>\n",
              "    <tr>\n",
              "      <th>25%</th>\n",
              "      <td>21.215179</td>\n",
              "      <td>21.773750</td>\n",
              "      <td>20.626428</td>\n",
              "      <td>21.225535</td>\n",
              "      <td>18.465643</td>\n",
              "      <td>5.476226e+08</td>\n",
              "    </tr>\n",
              "    <tr>\n",
              "      <th>50%</th>\n",
              "      <td>29.584999</td>\n",
              "      <td>30.000000</td>\n",
              "      <td>28.897499</td>\n",
              "      <td>29.757500</td>\n",
              "      <td>27.500698</td>\n",
              "      <td>8.290760e+08</td>\n",
              "    </tr>\n",
              "    <tr>\n",
              "      <th>75%</th>\n",
              "      <td>47.857501</td>\n",
              "      <td>48.385000</td>\n",
              "      <td>46.983750</td>\n",
              "      <td>47.797500</td>\n",
              "      <td>46.407387</td>\n",
              "      <td>1.474039e+09</td>\n",
              "    </tr>\n",
              "    <tr>\n",
              "      <th>max</th>\n",
              "      <td>143.070007</td>\n",
              "      <td>145.089996</td>\n",
              "      <td>133.690002</td>\n",
              "      <td>139.070007</td>\n",
              "      <td>138.627029</td>\n",
              "      <td>4.896550e+09</td>\n",
              "    </tr>\n",
              "  </tbody>\n",
              "</table>\n",
              "</div>"
            ],
            "text/plain": [
              "             Open        High         Low       Close   Adj Close        Volume\n",
              "count  523.000000  523.000000  523.000000  523.000000  523.000000  5.230000e+02\n",
              "mean    41.315260   42.562649   40.316071   41.523985   39.786268  1.152484e+09\n",
              "std     30.491574   31.566297   29.586475   30.637048   31.238937  8.610701e+08\n",
              "min     11.334286   11.898214   11.089286   11.437857    9.835445  5.352237e+07\n",
              "25%     21.215179   21.773750   20.626428   21.225535   18.465643  5.476226e+08\n",
              "50%     29.584999   30.000000   28.897499   29.757500   27.500698  8.290760e+08\n",
              "75%     47.857501   48.385000   46.983750   47.797500   46.407387  1.474039e+09\n",
              "max    143.070007  145.089996  133.690002  139.070007  138.627029  4.896550e+09"
            ]
          },
          "metadata": {
            "tags": []
          },
          "execution_count": 127
        }
      ]
    },
    {
      "cell_type": "code",
      "metadata": {
        "colab": {
          "base_uri": "https://localhost:8080/",
          "height": 204
        },
        "id": "1VnWZJktpJgs",
        "outputId": "66a1ef88-2258-4356-d0bf-0354c6b20945"
      },
      "source": [
        "df.head()"
      ],
      "execution_count": 128,
      "outputs": [
        {
          "output_type": "execute_result",
          "data": {
            "text/html": [
              "<div>\n",
              "<style scoped>\n",
              "    .dataframe tbody tr th:only-of-type {\n",
              "        vertical-align: middle;\n",
              "    }\n",
              "\n",
              "    .dataframe tbody tr th {\n",
              "        vertical-align: top;\n",
              "    }\n",
              "\n",
              "    .dataframe thead th {\n",
              "        text-align: right;\n",
              "    }\n",
              "</style>\n",
              "<table border=\"1\" class=\"dataframe\">\n",
              "  <thead>\n",
              "    <tr style=\"text-align: right;\">\n",
              "      <th></th>\n",
              "      <th>Date</th>\n",
              "      <th>Open</th>\n",
              "      <th>High</th>\n",
              "      <th>Low</th>\n",
              "      <th>Close</th>\n",
              "      <th>Adj Close</th>\n",
              "      <th>Volume</th>\n",
              "    </tr>\n",
              "  </thead>\n",
              "  <tbody>\n",
              "    <tr>\n",
              "      <th>0</th>\n",
              "      <td>2011-06-13</td>\n",
              "      <td>11.685714</td>\n",
              "      <td>11.901786</td>\n",
              "      <td>11.368929</td>\n",
              "      <td>11.437857</td>\n",
              "      <td>9.835445</td>\n",
              "      <td>2188849600</td>\n",
              "    </tr>\n",
              "    <tr>\n",
              "      <th>1</th>\n",
              "      <td>2011-06-20</td>\n",
              "      <td>11.334286</td>\n",
              "      <td>11.898214</td>\n",
              "      <td>11.089286</td>\n",
              "      <td>11.655357</td>\n",
              "      <td>10.022475</td>\n",
              "      <td>2524177600</td>\n",
              "    </tr>\n",
              "    <tr>\n",
              "      <th>2</th>\n",
              "      <td>2011-06-27</td>\n",
              "      <td>11.699643</td>\n",
              "      <td>12.267857</td>\n",
              "      <td>11.687500</td>\n",
              "      <td>12.259286</td>\n",
              "      <td>10.541796</td>\n",
              "      <td>1744926400</td>\n",
              "    </tr>\n",
              "    <tr>\n",
              "      <th>3</th>\n",
              "      <td>2011-07-04</td>\n",
              "      <td>12.250000</td>\n",
              "      <td>12.857143</td>\n",
              "      <td>12.232143</td>\n",
              "      <td>12.846786</td>\n",
              "      <td>11.046986</td>\n",
              "      <td>1688976800</td>\n",
              "    </tr>\n",
              "    <tr>\n",
              "      <th>4</th>\n",
              "      <td>2011-07-11</td>\n",
              "      <td>12.726429</td>\n",
              "      <td>13.035714</td>\n",
              "      <td>12.450714</td>\n",
              "      <td>13.032857</td>\n",
              "      <td>11.206989</td>\n",
              "      <td>2200923200</td>\n",
              "    </tr>\n",
              "  </tbody>\n",
              "</table>\n",
              "</div>"
            ],
            "text/plain": [
              "         Date       Open       High  ...      Close  Adj Close      Volume\n",
              "0  2011-06-13  11.685714  11.901786  ...  11.437857   9.835445  2188849600\n",
              "1  2011-06-20  11.334286  11.898214  ...  11.655357  10.022475  2524177600\n",
              "2  2011-06-27  11.699643  12.267857  ...  12.259286  10.541796  1744926400\n",
              "3  2011-07-04  12.250000  12.857143  ...  12.846786  11.046986  1688976800\n",
              "4  2011-07-11  12.726429  13.035714  ...  13.032857  11.206989  2200923200\n",
              "\n",
              "[5 rows x 7 columns]"
            ]
          },
          "metadata": {
            "tags": []
          },
          "execution_count": 128
        }
      ]
    },
    {
      "cell_type": "code",
      "metadata": {
        "id": "L1AGeCIe2PxB"
      },
      "source": [
        "\n",
        "x=df[['Open','High','Low','Volume']]\n",
        "y=df['Close']"
      ],
      "execution_count": 129,
      "outputs": []
    },
    {
      "cell_type": "code",
      "metadata": {
        "id": "SktzeqFKpiiY"
      },
      "source": [
        "import matplotlib.pyplot as plt\n",
        "df['Date'] = pd.to_datetime(df.Date)\n",
        "df.index=df['Date']\n",
        "df\n",
        "train_size=(int)(0.2*len(df.index))\n",
        "test_size=len(df.index)-train_size\n",
        "\n"
      ],
      "execution_count": 130,
      "outputs": []
    },
    {
      "cell_type": "code",
      "metadata": {
        "id": "kTzmCNM6peaV"
      },
      "source": [
        "x_train,x_test,y_train,y_test=train_test_split(x,y,random_state=0)"
      ],
      "execution_count": 131,
      "outputs": []
    },
    {
      "cell_type": "code",
      "metadata": {
        "id": "O3iGg5SBrNMP"
      },
      "source": [
        "\n",
        "df1 = pd.DataFrame(index=np.arange(len(df.index)))\n",
        "df.sort_index(inplace=True)\n",
        "df1.index=df['Date']\n",
        "\n",
        "\n"
      ],
      "execution_count": 132,
      "outputs": []
    },
    {
      "cell_type": "code",
      "metadata": {
        "id": "sStoL3hs19Iq"
      },
      "source": [
        "from sklearn.metrics import confusion_matrix,accuracy_score\n"
      ],
      "execution_count": 133,
      "outputs": []
    },
    {
      "cell_type": "code",
      "metadata": {
        "id": "O-v5UiZ4xLDp"
      },
      "source": [
        "#sc_X=StandardScaler()\n",
        "#x_train=sc_X.fit_transform(x_train)\n",
        "#x_test=sc_X.fit_transform(x_test)"
      ],
      "execution_count": 69,
      "outputs": []
    },
    {
      "cell_type": "code",
      "metadata": {
        "id": "lKkR89_Dw3GL"
      },
      "source": [
        "df1['Date']=pd.Series(df['Date'])\n",
        "df1['Close']=pd.Series(df['Adj Close'])"
      ],
      "execution_count": 134,
      "outputs": []
    },
    {
      "cell_type": "code",
      "metadata": {
        "id": "kvA99y2mw5jn"
      },
      "source": [
        "x_train=df1.iloc[:x1_train][:]\n",
        "x_test=df1.iloc[x1_train:][:]\n",
        "x_train.shape\n",
        "predicted=[]\n",
        "\n",
        "#for i in range(0,test_1.shape[0]):\n",
        "  #  predicted1 = x_train['AdjClose'][len(x_train)-test_size+i:].sum() + sum(predicted)\n",
        "for i in range(0,test_1.shape[0]):\n",
        "    predicted1 = x_train['Close'][len(x_train)-test_size+i:].sum() + sum(predicted)\n",
        "    predicted.append(predicted1/test_size)"
      ],
      "execution_count": 135,
      "outputs": []
    },
    {
      "cell_type": "code",
      "metadata": {
        "id": "XmpCU3282axd"
      },
      "source": [
        "from sklearn.metrics import confusion_matrix,accuracy_score"
      ],
      "execution_count": 136,
      "outputs": []
    },
    {
      "cell_type": "code",
      "metadata": {
        "colab": {
          "base_uri": "https://localhost:8080/"
        },
        "id": "YZyhTsXIvYkQ",
        "outputId": "bf36d3f7-d60f-42e5-b0c8-5e93a4121d9b"
      },
      "source": [
        "print(sklearn.metrics.r2_score(test_1['Close'], predicted))"
      ],
      "execution_count": 137,
      "outputs": [
        {
          "output_type": "stream",
          "text": [
            "-16.7305294354428\n"
          ],
          "name": "stdout"
        }
      ]
    },
    {
      "cell_type": "code",
      "metadata": {
        "id": "EuaKW9IG18ox"
      },
      "source": [
        ""
      ],
      "execution_count": null,
      "outputs": []
    }
  ]
}