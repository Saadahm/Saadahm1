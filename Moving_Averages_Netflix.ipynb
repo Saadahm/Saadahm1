{
  "nbformat": 4,
  "nbformat_minor": 0,
  "metadata": {
    "colab": {
      "name": "Moving Averages Netflix.ipynb",
      "provenance": [],
      "authorship_tag": "ABX9TyOXy0SNRQCxYOYRho0QABHp",
      "include_colab_link": true
    },
    "kernelspec": {
      "name": "python3",
      "display_name": "Python 3"
    },
    "language_info": {
      "name": "python"
    }
  },
  "cells": [
    {
      "cell_type": "markdown",
      "metadata": {
        "id": "view-in-github",
        "colab_type": "text"
      },
      "source": [
        "<a href=\"https://colab.research.google.com/github/Saadahm/Saadahm1/blob/main/Moving_Averages_Netflix.ipynb\" target=\"_parent\"><img src=\"https://colab.research.google.com/assets/colab-badge.svg\" alt=\"Open In Colab\"/></a>"
      ]
    },
    {
      "cell_type": "code",
      "metadata": {
        "id": "bL7Mrv3xoxf5"
      },
      "source": [
        "import sklearn\n",
        "from sklearn.model_selection import train_test_split\n",
        "from sklearn.linear_model import LinearRegression\n",
        "from sklearn import metrics"
      ],
      "execution_count": 42,
      "outputs": []
    },
    {
      "cell_type": "code",
      "metadata": {
        "id": "d9MPgXIxo8vF"
      },
      "source": [
        "import pandas as pd\n",
        "import numpy as np\n",
        "import matplotlib.pyplot as plt\n",
        "df=pd.read_csv('NFLX.csv')\n"
      ],
      "execution_count": 33,
      "outputs": []
    },
    {
      "cell_type": "code",
      "metadata": {
        "colab": {
          "base_uri": "https://localhost:8080/",
          "height": 297
        },
        "id": "-dXLbiJDpFGe",
        "outputId": "6446215e-7c55-46be-8329-247ba7588c71"
      },
      "source": [
        "df.describe()"
      ],
      "execution_count": 34,
      "outputs": [
        {
          "output_type": "execute_result",
          "data": {
            "text/html": [
              "<div>\n",
              "<style scoped>\n",
              "    .dataframe tbody tr th:only-of-type {\n",
              "        vertical-align: middle;\n",
              "    }\n",
              "\n",
              "    .dataframe tbody tr th {\n",
              "        vertical-align: top;\n",
              "    }\n",
              "\n",
              "    .dataframe thead th {\n",
              "        text-align: right;\n",
              "    }\n",
              "</style>\n",
              "<table border=\"1\" class=\"dataframe\">\n",
              "  <thead>\n",
              "    <tr style=\"text-align: right;\">\n",
              "      <th></th>\n",
              "      <th>Open</th>\n",
              "      <th>High</th>\n",
              "      <th>Low</th>\n",
              "      <th>Close</th>\n",
              "      <th>Adj Close</th>\n",
              "      <th>Volume</th>\n",
              "    </tr>\n",
              "  </thead>\n",
              "  <tbody>\n",
              "    <tr>\n",
              "      <th>count</th>\n",
              "      <td>523.000000</td>\n",
              "      <td>523.000000</td>\n",
              "      <td>523.000000</td>\n",
              "      <td>523.000000</td>\n",
              "      <td>523.000000</td>\n",
              "      <td>5.230000e+02</td>\n",
              "    </tr>\n",
              "    <tr>\n",
              "      <th>mean</th>\n",
              "      <td>180.040778</td>\n",
              "      <td>187.655279</td>\n",
              "      <td>173.532019</td>\n",
              "      <td>180.929674</td>\n",
              "      <td>180.929674</td>\n",
              "      <td>8.734732e+07</td>\n",
              "    </tr>\n",
              "    <tr>\n",
              "      <th>std</th>\n",
              "      <td>162.861814</td>\n",
              "      <td>169.513468</td>\n",
              "      <td>157.218526</td>\n",
              "      <td>163.353438</td>\n",
              "      <td>163.353438</td>\n",
              "      <td>8.678611e+07</td>\n",
              "    </tr>\n",
              "    <tr>\n",
              "      <th>min</th>\n",
              "      <td>7.791429</td>\n",
              "      <td>8.262857</td>\n",
              "      <td>7.544286</td>\n",
              "      <td>7.701429</td>\n",
              "      <td>7.701429</td>\n",
              "      <td>3.123969e+06</td>\n",
              "    </tr>\n",
              "    <tr>\n",
              "      <th>25%</th>\n",
              "      <td>47.545714</td>\n",
              "      <td>49.742143</td>\n",
              "      <td>45.621429</td>\n",
              "      <td>47.712857</td>\n",
              "      <td>47.712857</td>\n",
              "      <td>3.264995e+07</td>\n",
              "    </tr>\n",
              "    <tr>\n",
              "      <th>50%</th>\n",
              "      <td>107.480003</td>\n",
              "      <td>115.419998</td>\n",
              "      <td>101.209999</td>\n",
              "      <td>108.379997</td>\n",
              "      <td>108.379997</td>\n",
              "      <td>6.049690e+07</td>\n",
              "    </tr>\n",
              "    <tr>\n",
              "      <th>75%</th>\n",
              "      <td>318.989990</td>\n",
              "      <td>336.199997</td>\n",
              "      <td>305.770005</td>\n",
              "      <td>325.039994</td>\n",
              "      <td>325.039994</td>\n",
              "      <td>1.139114e+08</td>\n",
              "    </tr>\n",
              "    <tr>\n",
              "      <th>max</th>\n",
              "      <td>567.979980</td>\n",
              "      <td>593.289978</td>\n",
              "      <td>543.000000</td>\n",
              "      <td>565.169983</td>\n",
              "      <td>565.169983</td>\n",
              "      <td>7.136955e+08</td>\n",
              "    </tr>\n",
              "  </tbody>\n",
              "</table>\n",
              "</div>"
            ],
            "text/plain": [
              "             Open        High         Low       Close   Adj Close        Volume\n",
              "count  523.000000  523.000000  523.000000  523.000000  523.000000  5.230000e+02\n",
              "mean   180.040778  187.655279  173.532019  180.929674  180.929674  8.734732e+07\n",
              "std    162.861814  169.513468  157.218526  163.353438  163.353438  8.678611e+07\n",
              "min      7.791429    8.262857    7.544286    7.701429    7.701429  3.123969e+06\n",
              "25%     47.545714   49.742143   45.621429   47.712857   47.712857  3.264995e+07\n",
              "50%    107.480003  115.419998  101.209999  108.379997  108.379997  6.049690e+07\n",
              "75%    318.989990  336.199997  305.770005  325.039994  325.039994  1.139114e+08\n",
              "max    567.979980  593.289978  543.000000  565.169983  565.169983  7.136955e+08"
            ]
          },
          "metadata": {
            "tags": []
          },
          "execution_count": 34
        }
      ]
    },
    {
      "cell_type": "code",
      "metadata": {
        "colab": {
          "base_uri": "https://localhost:8080/",
          "height": 204
        },
        "id": "1VnWZJktpJgs",
        "outputId": "84b3b558-d797-4919-91d0-064631a1e131"
      },
      "source": [
        "df.head()"
      ],
      "execution_count": 6,
      "outputs": [
        {
          "output_type": "execute_result",
          "data": {
            "text/html": [
              "<div>\n",
              "<style scoped>\n",
              "    .dataframe tbody tr th:only-of-type {\n",
              "        vertical-align: middle;\n",
              "    }\n",
              "\n",
              "    .dataframe tbody tr th {\n",
              "        vertical-align: top;\n",
              "    }\n",
              "\n",
              "    .dataframe thead th {\n",
              "        text-align: right;\n",
              "    }\n",
              "</style>\n",
              "<table border=\"1\" class=\"dataframe\">\n",
              "  <thead>\n",
              "    <tr style=\"text-align: right;\">\n",
              "      <th></th>\n",
              "      <th>Date</th>\n",
              "      <th>Open</th>\n",
              "      <th>High</th>\n",
              "      <th>Low</th>\n",
              "      <th>Close</th>\n",
              "      <th>Adj Close</th>\n",
              "      <th>Volume</th>\n",
              "    </tr>\n",
              "  </thead>\n",
              "  <tbody>\n",
              "    <tr>\n",
              "      <th>0</th>\n",
              "      <td>2011-06-13</td>\n",
              "      <td>37.111427</td>\n",
              "      <td>37.571430</td>\n",
              "      <td>34.894287</td>\n",
              "      <td>35.095715</td>\n",
              "      <td>35.095715</td>\n",
              "      <td>134741600</td>\n",
              "    </tr>\n",
              "    <tr>\n",
              "      <th>1</th>\n",
              "      <td>2011-06-20</td>\n",
              "      <td>34.551430</td>\n",
              "      <td>37.264286</td>\n",
              "      <td>34.302856</td>\n",
              "      <td>36.708572</td>\n",
              "      <td>36.708572</td>\n",
              "      <td>133948500</td>\n",
              "    </tr>\n",
              "    <tr>\n",
              "      <th>2</th>\n",
              "      <td>2011-06-27</td>\n",
              "      <td>36.414288</td>\n",
              "      <td>38.391430</td>\n",
              "      <td>35.948570</td>\n",
              "      <td>38.284286</td>\n",
              "      <td>38.284286</td>\n",
              "      <td>103798100</td>\n",
              "    </tr>\n",
              "    <tr>\n",
              "      <th>3</th>\n",
              "      <td>2011-07-04</td>\n",
              "      <td>39.428570</td>\n",
              "      <td>42.478573</td>\n",
              "      <td>39.387142</td>\n",
              "      <td>42.162857</td>\n",
              "      <td>42.162857</td>\n",
              "      <td>143000200</td>\n",
              "    </tr>\n",
              "    <tr>\n",
              "      <th>4</th>\n",
              "      <td>2011-07-11</td>\n",
              "      <td>42.118572</td>\n",
              "      <td>43.541428</td>\n",
              "      <td>40.231430</td>\n",
              "      <td>40.990002</td>\n",
              "      <td>40.990002</td>\n",
              "      <td>191842700</td>\n",
              "    </tr>\n",
              "  </tbody>\n",
              "</table>\n",
              "</div>"
            ],
            "text/plain": [
              "         Date       Open       High        Low      Close  Adj Close     Volume\n",
              "0  2011-06-13  37.111427  37.571430  34.894287  35.095715  35.095715  134741600\n",
              "1  2011-06-20  34.551430  37.264286  34.302856  36.708572  36.708572  133948500\n",
              "2  2011-06-27  36.414288  38.391430  35.948570  38.284286  38.284286  103798100\n",
              "3  2011-07-04  39.428570  42.478573  39.387142  42.162857  42.162857  143000200\n",
              "4  2011-07-11  42.118572  43.541428  40.231430  40.990002  40.990002  191842700"
            ]
          },
          "metadata": {
            "tags": []
          },
          "execution_count": 6
        }
      ]
    },
    {
      "cell_type": "code",
      "metadata": {
        "id": "L1AGeCIe2PxB"
      },
      "source": [
        "\n",
        "x=df[['Open','High','Low','Volume']]\n",
        "y=df['Close']"
      ],
      "execution_count": 108,
      "outputs": []
    },
    {
      "cell_type": "code",
      "metadata": {
        "id": "SktzeqFKpiiY"
      },
      "source": [
        "import matplotlib.pyplot as plt\n",
        "df['Date'] = pd.to_datetime(df.Date)\n",
        "df.index=df['Date']\n",
        "df\n",
        "train_size=(int)(0.2*len(df.index))\n",
        "test_size=len(df.index)-train_size\n",
        "\n"
      ],
      "execution_count": 118,
      "outputs": []
    },
    {
      "cell_type": "code",
      "metadata": {
        "id": "kTzmCNM6peaV"
      },
      "source": [
        "x_train,x_test,y_train,y_test=train_test_split(x,y,random_state=0)"
      ],
      "execution_count": 109,
      "outputs": []
    },
    {
      "cell_type": "code",
      "metadata": {
        "id": "O3iGg5SBrNMP"
      },
      "source": [
        "\n",
        "df1 = pd.DataFrame(index=np.arange(len(df.index)))\n",
        "df.sort_index(inplace=True)\n",
        "df1.index=df['Date']\n",
        "\n",
        "\n"
      ],
      "execution_count": 119,
      "outputs": []
    },
    {
      "cell_type": "code",
      "metadata": {
        "id": "sStoL3hs19Iq"
      },
      "source": [
        "from sklearn.metrics import confusion_matrix,accuracy_score\n"
      ],
      "execution_count": 112,
      "outputs": []
    },
    {
      "cell_type": "code",
      "metadata": {
        "id": "O-v5UiZ4xLDp"
      },
      "source": [
        "#sc_X=StandardScaler()\n",
        "#x_train=sc_X.fit_transform(x_train)\n",
        "#x_test=sc_X.fit_transform(x_test)"
      ],
      "execution_count": 69,
      "outputs": []
    },
    {
      "cell_type": "code",
      "metadata": {
        "id": "lKkR89_Dw3GL"
      },
      "source": [
        "df1['Date']=pd.Series(df['Date'])\n",
        "df1['Close']=pd.Series(df['Adj Close'])"
      ],
      "execution_count": 120,
      "outputs": []
    },
    {
      "cell_type": "code",
      "metadata": {
        "id": "kvA99y2mw5jn"
      },
      "source": [
        "x_train=df1.iloc[:x1_train][:]\n",
        "x_test=df1.iloc[x1_train:][:]\n",
        "x_train.shape\n",
        "predicted=[]\n",
        "\n",
        "#for i in range(0,test_1.shape[0]):\n",
        "  #  predicted1 = x_train['AdjClose'][len(x_train)-test_size+i:].sum() + sum(predicted)\n",
        "for i in range(0,test_1.shape[0]):\n",
        "    predicted1 = x_train['Close'][len(x_train)-test_size+i:].sum() + sum(predicted)\n",
        "    predicted.append(predicted1/test_size)"
      ],
      "execution_count": 121,
      "outputs": []
    },
    {
      "cell_type": "code",
      "metadata": {
        "id": "XmpCU3282axd"
      },
      "source": [
        "from sklearn.metrics import confusion_matrix,accuracy_score"
      ],
      "execution_count": 122,
      "outputs": []
    },
    {
      "cell_type": "code",
      "metadata": {
        "colab": {
          "base_uri": "https://localhost:8080/"
        },
        "id": "YZyhTsXIvYkQ",
        "outputId": "a11925a1-9ee4-4eb4-f682-ad10282ade70"
      },
      "source": [
        "print(sklearn.metrics.r2_score(test_1['Close'], predicted))"
      ],
      "execution_count": 124,
      "outputs": [
        {
          "output_type": "stream",
          "text": [
            "-3.6600460674452764\n"
          ],
          "name": "stdout"
        }
      ]
    },
    {
      "cell_type": "code",
      "metadata": {
        "id": "EuaKW9IG18ox"
      },
      "source": [
        ""
      ],
      "execution_count": null,
      "outputs": []
    }
  ]
}