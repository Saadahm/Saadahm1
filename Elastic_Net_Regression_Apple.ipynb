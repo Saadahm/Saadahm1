{
  "nbformat": 4,
  "nbformat_minor": 0,
  "metadata": {
    "colab": {
      "name": "Elastic Net Regression Apple.ipynb",
      "provenance": [],
      "include_colab_link": true
    },
    "kernelspec": {
      "name": "python3",
      "display_name": "Python 3"
    },
    "language_info": {
      "name": "python"
    }
  },
  "cells": [
    {
      "cell_type": "markdown",
      "metadata": {
        "id": "view-in-github",
        "colab_type": "text"
      },
      "source": [
        "<a href=\"https://colab.research.google.com/github/Saadahm/Saadahm1/blob/main/Elastic_Net_Regression_Apple.ipynb\" target=\"_parent\"><img src=\"https://colab.research.google.com/assets/colab-badge.svg\" alt=\"Open In Colab\"/></a>"
      ]
    },
    {
      "cell_type": "code",
      "metadata": {
        "id": "4H6vrPYZLowo"
      },
      "source": [
        "from sklearn.model_selection import train_test_split\n",
        "from sklearn.linear_model import LinearRegression\n",
        "from sklearn import metrics\n"
      ],
      "execution_count": 4,
      "outputs": []
    },
    {
      "cell_type": "code",
      "metadata": {
        "id": "3nlZkJn_I1X3"
      },
      "source": [
        "import pandas as pd\n",
        "import numpy as np\n",
        "import matplotlib.pyplot as plt\n",
        "df=pd.read_csv('AAPL.csv')"
      ],
      "execution_count": 5,
      "outputs": []
    },
    {
      "cell_type": "code",
      "metadata": {
        "colab": {
          "base_uri": "https://localhost:8080/",
          "height": 297
        },
        "id": "leS7AZ7MMJmh",
        "outputId": "022fd470-544e-499d-c557-1a5062c65952"
      },
      "source": [
        "df.describe()"
      ],
      "execution_count": 6,
      "outputs": [
        {
          "output_type": "execute_result",
          "data": {
            "text/html": [
              "<div>\n",
              "<style scoped>\n",
              "    .dataframe tbody tr th:only-of-type {\n",
              "        vertical-align: middle;\n",
              "    }\n",
              "\n",
              "    .dataframe tbody tr th {\n",
              "        vertical-align: top;\n",
              "    }\n",
              "\n",
              "    .dataframe thead th {\n",
              "        text-align: right;\n",
              "    }\n",
              "</style>\n",
              "<table border=\"1\" class=\"dataframe\">\n",
              "  <thead>\n",
              "    <tr style=\"text-align: right;\">\n",
              "      <th></th>\n",
              "      <th>Open</th>\n",
              "      <th>High</th>\n",
              "      <th>Low</th>\n",
              "      <th>Close</th>\n",
              "      <th>Adj Close</th>\n",
              "      <th>Volume</th>\n",
              "    </tr>\n",
              "  </thead>\n",
              "  <tbody>\n",
              "    <tr>\n",
              "      <th>count</th>\n",
              "      <td>523.000000</td>\n",
              "      <td>523.000000</td>\n",
              "      <td>523.000000</td>\n",
              "      <td>523.000000</td>\n",
              "      <td>523.000000</td>\n",
              "      <td>5.230000e+02</td>\n",
              "    </tr>\n",
              "    <tr>\n",
              "      <th>mean</th>\n",
              "      <td>41.315260</td>\n",
              "      <td>42.562649</td>\n",
              "      <td>40.316071</td>\n",
              "      <td>41.523985</td>\n",
              "      <td>39.786268</td>\n",
              "      <td>1.152484e+09</td>\n",
              "    </tr>\n",
              "    <tr>\n",
              "      <th>std</th>\n",
              "      <td>30.491574</td>\n",
              "      <td>31.566297</td>\n",
              "      <td>29.586475</td>\n",
              "      <td>30.637048</td>\n",
              "      <td>31.238937</td>\n",
              "      <td>8.610701e+08</td>\n",
              "    </tr>\n",
              "    <tr>\n",
              "      <th>min</th>\n",
              "      <td>11.334286</td>\n",
              "      <td>11.898214</td>\n",
              "      <td>11.089286</td>\n",
              "      <td>11.437857</td>\n",
              "      <td>9.835445</td>\n",
              "      <td>5.352237e+07</td>\n",
              "    </tr>\n",
              "    <tr>\n",
              "      <th>25%</th>\n",
              "      <td>21.215179</td>\n",
              "      <td>21.773750</td>\n",
              "      <td>20.626428</td>\n",
              "      <td>21.225535</td>\n",
              "      <td>18.465643</td>\n",
              "      <td>5.476226e+08</td>\n",
              "    </tr>\n",
              "    <tr>\n",
              "      <th>50%</th>\n",
              "      <td>29.584999</td>\n",
              "      <td>30.000000</td>\n",
              "      <td>28.897499</td>\n",
              "      <td>29.757500</td>\n",
              "      <td>27.500698</td>\n",
              "      <td>8.290760e+08</td>\n",
              "    </tr>\n",
              "    <tr>\n",
              "      <th>75%</th>\n",
              "      <td>47.857501</td>\n",
              "      <td>48.385000</td>\n",
              "      <td>46.983750</td>\n",
              "      <td>47.797500</td>\n",
              "      <td>46.407387</td>\n",
              "      <td>1.474039e+09</td>\n",
              "    </tr>\n",
              "    <tr>\n",
              "      <th>max</th>\n",
              "      <td>143.070007</td>\n",
              "      <td>145.089996</td>\n",
              "      <td>133.690002</td>\n",
              "      <td>139.070007</td>\n",
              "      <td>138.627029</td>\n",
              "      <td>4.896550e+09</td>\n",
              "    </tr>\n",
              "  </tbody>\n",
              "</table>\n",
              "</div>"
            ],
            "text/plain": [
              "             Open        High         Low       Close   Adj Close        Volume\n",
              "count  523.000000  523.000000  523.000000  523.000000  523.000000  5.230000e+02\n",
              "mean    41.315260   42.562649   40.316071   41.523985   39.786268  1.152484e+09\n",
              "std     30.491574   31.566297   29.586475   30.637048   31.238937  8.610701e+08\n",
              "min     11.334286   11.898214   11.089286   11.437857    9.835445  5.352237e+07\n",
              "25%     21.215179   21.773750   20.626428   21.225535   18.465643  5.476226e+08\n",
              "50%     29.584999   30.000000   28.897499   29.757500   27.500698  8.290760e+08\n",
              "75%     47.857501   48.385000   46.983750   47.797500   46.407387  1.474039e+09\n",
              "max    143.070007  145.089996  133.690002  139.070007  138.627029  4.896550e+09"
            ]
          },
          "metadata": {
            "tags": []
          },
          "execution_count": 6
        }
      ]
    },
    {
      "cell_type": "code",
      "metadata": {
        "id": "mE0sViTIMqi1"
      },
      "source": [
        "df['Date']=pd.to_datetime(df.Date)"
      ],
      "execution_count": 7,
      "outputs": []
    },
    {
      "cell_type": "code",
      "metadata": {
        "colab": {
          "base_uri": "https://localhost:8080/"
        },
        "id": "5t5g198NM_wc",
        "outputId": "c3bb63c4-2bb5-4096-9679-5b8a2009af03"
      },
      "source": [
        "df.shape"
      ],
      "execution_count": 9,
      "outputs": [
        {
          "output_type": "execute_result",
          "data": {
            "text/plain": [
              "(523, 7)"
            ]
          },
          "metadata": {
            "tags": []
          },
          "execution_count": 9
        }
      ]
    },
    {
      "cell_type": "code",
      "metadata": {
        "id": "KCV5azhSNEw5"
      },
      "source": [
        "df.drop('Adj Close',axis=1,inplace = True)"
      ],
      "execution_count": 10,
      "outputs": []
    },
    {
      "cell_type": "code",
      "metadata": {
        "colab": {
          "base_uri": "https://localhost:8080/",
          "height": 204
        },
        "id": "mFBu7cAZNa2Z",
        "outputId": "8dbc8569-bb13-4ba3-9cf9-6500c519ca5f"
      },
      "source": [
        "df.head()"
      ],
      "execution_count": 11,
      "outputs": [
        {
          "output_type": "execute_result",
          "data": {
            "text/html": [
              "<div>\n",
              "<style scoped>\n",
              "    .dataframe tbody tr th:only-of-type {\n",
              "        vertical-align: middle;\n",
              "    }\n",
              "\n",
              "    .dataframe tbody tr th {\n",
              "        vertical-align: top;\n",
              "    }\n",
              "\n",
              "    .dataframe thead th {\n",
              "        text-align: right;\n",
              "    }\n",
              "</style>\n",
              "<table border=\"1\" class=\"dataframe\">\n",
              "  <thead>\n",
              "    <tr style=\"text-align: right;\">\n",
              "      <th></th>\n",
              "      <th>Date</th>\n",
              "      <th>Open</th>\n",
              "      <th>High</th>\n",
              "      <th>Low</th>\n",
              "      <th>Close</th>\n",
              "      <th>Volume</th>\n",
              "    </tr>\n",
              "  </thead>\n",
              "  <tbody>\n",
              "    <tr>\n",
              "      <th>0</th>\n",
              "      <td>2011-06-13</td>\n",
              "      <td>11.685714</td>\n",
              "      <td>11.901786</td>\n",
              "      <td>11.368929</td>\n",
              "      <td>11.437857</td>\n",
              "      <td>2188849600</td>\n",
              "    </tr>\n",
              "    <tr>\n",
              "      <th>1</th>\n",
              "      <td>2011-06-20</td>\n",
              "      <td>11.334286</td>\n",
              "      <td>11.898214</td>\n",
              "      <td>11.089286</td>\n",
              "      <td>11.655357</td>\n",
              "      <td>2524177600</td>\n",
              "    </tr>\n",
              "    <tr>\n",
              "      <th>2</th>\n",
              "      <td>2011-06-27</td>\n",
              "      <td>11.699643</td>\n",
              "      <td>12.267857</td>\n",
              "      <td>11.687500</td>\n",
              "      <td>12.259286</td>\n",
              "      <td>1744926400</td>\n",
              "    </tr>\n",
              "    <tr>\n",
              "      <th>3</th>\n",
              "      <td>2011-07-04</td>\n",
              "      <td>12.250000</td>\n",
              "      <td>12.857143</td>\n",
              "      <td>12.232143</td>\n",
              "      <td>12.846786</td>\n",
              "      <td>1688976800</td>\n",
              "    </tr>\n",
              "    <tr>\n",
              "      <th>4</th>\n",
              "      <td>2011-07-11</td>\n",
              "      <td>12.726429</td>\n",
              "      <td>13.035714</td>\n",
              "      <td>12.450714</td>\n",
              "      <td>13.032857</td>\n",
              "      <td>2200923200</td>\n",
              "    </tr>\n",
              "  </tbody>\n",
              "</table>\n",
              "</div>"
            ],
            "text/plain": [
              "        Date       Open       High        Low      Close      Volume\n",
              "0 2011-06-13  11.685714  11.901786  11.368929  11.437857  2188849600\n",
              "1 2011-06-20  11.334286  11.898214  11.089286  11.655357  2524177600\n",
              "2 2011-06-27  11.699643  12.267857  11.687500  12.259286  1744926400\n",
              "3 2011-07-04  12.250000  12.857143  12.232143  12.846786  1688976800\n",
              "4 2011-07-11  12.726429  13.035714  12.450714  13.032857  2200923200"
            ]
          },
          "metadata": {
            "tags": []
          },
          "execution_count": 11
        }
      ]
    },
    {
      "cell_type": "code",
      "metadata": {
        "id": "KExJJkiNNvb-"
      },
      "source": [
        "x=df[['Open','High','Low','Volume']]\n",
        "y=df['Close']"
      ],
      "execution_count": 12,
      "outputs": []
    },
    {
      "cell_type": "code",
      "metadata": {
        "id": "GjStJjuMOd5G"
      },
      "source": [
        "x_train,x_test,y_train,y_test=train_test_split(x,y,random_state=0)"
      ],
      "execution_count": 13,
      "outputs": []
    },
    {
      "cell_type": "code",
      "metadata": {
        "colab": {
          "base_uri": "https://localhost:8080/"
        },
        "id": "09VAIwdiOzNH",
        "outputId": "813821bd-54cf-45ac-8988-3bd62c9c237b"
      },
      "source": [
        "x_train.shape"
      ],
      "execution_count": 14,
      "outputs": [
        {
          "output_type": "execute_result",
          "data": {
            "text/plain": [
              "(392, 4)"
            ]
          },
          "metadata": {
            "tags": []
          },
          "execution_count": 14
        }
      ]
    },
    {
      "cell_type": "code",
      "metadata": {
        "colab": {
          "base_uri": "https://localhost:8080/"
        },
        "id": "S5COw_FIO41R",
        "outputId": "3686a0ca-ea76-43d5-d696-532ab8717a8a"
      },
      "source": [
        "x_test.shape"
      ],
      "execution_count": 15,
      "outputs": [
        {
          "output_type": "execute_result",
          "data": {
            "text/plain": [
              "(131, 4)"
            ]
          },
          "metadata": {
            "tags": []
          },
          "execution_count": 15
        }
      ]
    },
    {
      "cell_type": "code",
      "metadata": {
        "id": "JXOfilNo4zof"
      },
      "source": [
        "from sklearn.linear_model import ElasticNet"
      ],
      "execution_count": 16,
      "outputs": []
    },
    {
      "cell_type": "code",
      "metadata": {
        "id": "7wRrM3YAPKc1"
      },
      "source": [
        "from sklearn.linear_model import LinearRegression\n",
        "from sklearn.metrics import confusion_matrix,accuracy_score\n",
        "regressor=ElasticNet(alpha=1.0, l1_ratio=0.5)\n"
      ],
      "execution_count": 17,
      "outputs": []
    },
    {
      "cell_type": "code",
      "metadata": {
        "colab": {
          "base_uri": "https://localhost:8080/"
        },
        "id": "RvTIBkycPdZY",
        "outputId": "c6eeeed7-86cb-4667-cb13-51ae90721aac"
      },
      "source": [
        "regressor.fit(x_train,y_train)"
      ],
      "execution_count": 18,
      "outputs": [
        {
          "output_type": "execute_result",
          "data": {
            "text/plain": [
              "ElasticNet(alpha=1.0, copy_X=True, fit_intercept=True, l1_ratio=0.5,\n",
              "           max_iter=1000, normalize=False, positive=False, precompute=False,\n",
              "           random_state=None, selection='cyclic', tol=0.0001, warm_start=False)"
            ]
          },
          "metadata": {
            "tags": []
          },
          "execution_count": 18
        }
      ]
    },
    {
      "cell_type": "code",
      "metadata": {
        "colab": {
          "base_uri": "https://localhost:8080/"
        },
        "id": "aa8VSc8KQGkH",
        "outputId": "0b395f6b-7172-4f30-8bf7-cd63cf6cd02b"
      },
      "source": [
        "print(regressor.coef_)"
      ],
      "execution_count": 19,
      "outputs": [
        {
          "output_type": "stream",
          "text": [
            "[-0.00000000e+00  5.52744113e-01  4.45877005e-01 -1.35971970e-10]\n"
          ],
          "name": "stdout"
        }
      ]
    },
    {
      "cell_type": "code",
      "metadata": {
        "colab": {
          "base_uri": "https://localhost:8080/"
        },
        "id": "wsc1ybXQQLCM",
        "outputId": "b29381ac-f7f6-4263-ddd5-9f3f0e5587e3"
      },
      "source": [
        "print(regressor.intercept_)"
      ],
      "execution_count": 20,
      "outputs": [
        {
          "output_type": "stream",
          "text": [
            "0.1961851776024659\n"
          ],
          "name": "stdout"
        }
      ]
    },
    {
      "cell_type": "code",
      "metadata": {
        "id": "MicPJhdfQqKs"
      },
      "source": [
        "predicted=regressor.predict(x_test)"
      ],
      "execution_count": 21,
      "outputs": []
    },
    {
      "cell_type": "code",
      "metadata": {
        "colab": {
          "base_uri": "https://localhost:8080/"
        },
        "id": "tyK0D3VgQwMP",
        "outputId": "4d23119d-e2d0-4256-e2e6-955036a7b0db"
      },
      "source": [
        "print(x_test)"
      ],
      "execution_count": null,
      "outputs": [
        {
          "output_type": "stream",
          "text": [
            "          Open       High        Low      Volume\n",
            "15   14.280714  14.616071  13.613571  3073739200\n",
            "78   18.750000  19.627144  18.056429  3344812800\n",
            "137  19.645357  19.814285  17.626785  3266510800\n",
            "264  23.847500  24.222500  23.592501   450824000\n",
            "113  16.316429  18.008928  16.308214  2855347600\n",
            "..         ...        ...        ...         ...\n",
            "71   21.872143  22.692142  21.107143  3487162000\n",
            "473  92.500000  96.317497  92.467499   564072000\n",
            "6    13.941071  14.446429  13.714286  2952331200\n",
            "8    12.917500  13.558571  12.607857  4376019200\n",
            "319  37.645000  38.497501  36.825001   423272400\n",
            "\n",
            "[131 rows x 4 columns]\n"
          ],
          "name": "stdout"
        }
      ]
    },
    {
      "cell_type": "code",
      "metadata": {
        "colab": {
          "base_uri": "https://localhost:8080/"
        },
        "id": "uRp9DAmDQ8md",
        "outputId": "5b7d970d-d8da-4a3b-84a2-a9bdab044e52"
      },
      "source": [
        "predicted.shape"
      ],
      "execution_count": 22,
      "outputs": [
        {
          "output_type": "execute_result",
          "data": {
            "text/plain": [
              "(131,)"
            ]
          },
          "metadata": {
            "tags": []
          },
          "execution_count": 22
        }
      ]
    },
    {
      "cell_type": "code",
      "metadata": {
        "id": "jUwZ9_f8Q-pJ"
      },
      "source": [
        "dframe=pd.DataFrame(y_test,predicted)\n"
      ],
      "execution_count": 26,
      "outputs": []
    },
    {
      "cell_type": "code",
      "metadata": {
        "id": "P7-Gl4q3RIdA"
      },
      "source": [
        "dfr=pd.DataFrame({'Actual Price':y_test, 'Predicted Price':predicted})"
      ],
      "execution_count": 25,
      "outputs": []
    },
    {
      "cell_type": "code",
      "metadata": {
        "colab": {
          "base_uri": "https://localhost:8080/"
        },
        "id": "Hxa8iI-LRePg",
        "outputId": "7386012c-c245-47ed-fb5c-48e0f19476f5"
      },
      "source": [
        "print(dfr)"
      ],
      "execution_count": 27,
      "outputs": [
        {
          "output_type": "stream",
          "text": [
            "     Actual Price  Predicted Price\n",
            "15      13.618571        13.927168\n",
            "78      18.206785        18.641119\n",
            "137     17.878571        18.563639\n",
            "264     24.170000        24.043084\n",
            "113     17.940357        17.033724\n",
            "..            ...              ...\n",
            "71      21.571428        21.676166\n",
            "473     95.919998        94.587548\n",
            "6       13.945714        13.894814\n",
            "8       13.463929        12.717143\n",
            "319     37.375000        37.837320\n",
            "\n",
            "[131 rows x 2 columns]\n"
          ],
          "name": "stdout"
        }
      ]
    },
    {
      "cell_type": "code",
      "metadata": {
        "id": "YFAwed1iRt0V"
      },
      "source": [
        "from sklearn.metrics import confusion_matrix,accuracy_score\n"
      ],
      "execution_count": 28,
      "outputs": []
    },
    {
      "cell_type": "code",
      "metadata": {
        "colab": {
          "base_uri": "https://localhost:8080/"
        },
        "id": "ZmRu4XGBSHv4",
        "outputId": "5ecf19b5-f8f3-4121-b1c5-f1408183ac8a"
      },
      "source": [
        "regressor.score(x_test,y_test)"
      ],
      "execution_count": 29,
      "outputs": [
        {
          "output_type": "execute_result",
          "data": {
            "text/plain": [
              "0.9986161932875783"
            ]
          },
          "metadata": {
            "tags": []
          },
          "execution_count": 29
        }
      ]
    },
    {
      "cell_type": "code",
      "metadata": {
        "id": "nGQ2KsCVSJpk"
      },
      "source": [
        "import math"
      ],
      "execution_count": 30,
      "outputs": []
    },
    {
      "cell_type": "code",
      "metadata": {
        "colab": {
          "base_uri": "https://localhost:8080/"
        },
        "id": "g5guXR8xSMbd",
        "outputId": "754c76dd-7a99-4413-aaa4-a3c1502016ed"
      },
      "source": [
        "print('Mean Absolute Error:',metrics.mean_absolute_error(y_test,predicted))"
      ],
      "execution_count": 31,
      "outputs": [
        {
          "output_type": "stream",
          "text": [
            "Mean Absolute Error: 0.6886115537504625\n"
          ],
          "name": "stdout"
        }
      ]
    },
    {
      "cell_type": "code",
      "metadata": {
        "colab": {
          "base_uri": "https://localhost:8080/"
        },
        "id": "KJ0e0erxSpBT",
        "outputId": "84a3d656-f5e7-4d18-d7df-a45985aa388c"
      },
      "source": [
        "print('Mean Square Error:',metrics.mean_squared_error(y_test,predicted))"
      ],
      "execution_count": 32,
      "outputs": [
        {
          "output_type": "stream",
          "text": [
            "Mean Square Error: 1.2659179666744713\n"
          ],
          "name": "stdout"
        }
      ]
    },
    {
      "cell_type": "code",
      "metadata": {
        "colab": {
          "base_uri": "https://localhost:8080/"
        },
        "id": "wwjIeQWUSyJ0",
        "outputId": "0e0d151b-7c5f-4e1a-e7cc-1af6099d5a4a"
      },
      "source": [
        "print('Root Mean Absolute Error:',math.sqrt(metrics.mean_absolute_error(y_test,predicted)))"
      ],
      "execution_count": 33,
      "outputs": [
        {
          "output_type": "stream",
          "text": [
            "Root Mean Absolute Error: 0.8298262190064029\n"
          ],
          "name": "stdout"
        }
      ]
    },
    {
      "cell_type": "code",
      "metadata": {
        "id": "s6xgAc8tTFI0"
      },
      "source": [
        "graph=dfr.head(30)"
      ],
      "execution_count": 34,
      "outputs": []
    },
    {
      "cell_type": "code",
      "metadata": {
        "colab": {
          "base_uri": "https://localhost:8080/",
          "height": 292
        },
        "id": "m7bLQgDHTKYV",
        "outputId": "6b396d0d-88ba-41bd-8b81-4b509db0992d"
      },
      "source": [
        "graph.plot(kind='bar')"
      ],
      "execution_count": 35,
      "outputs": [
        {
          "output_type": "execute_result",
          "data": {
            "text/plain": [
              "<matplotlib.axes._subplots.AxesSubplot at 0x7faad0063cd0>"
            ]
          },
          "metadata": {
            "tags": []
          },
          "execution_count": 35
        },
        {
          "output_type": "display_data",
          "data": {
            "image/png": "[encoded data removed]",
            "text/plain": [
              "<Figure size 432x288 with 1 Axes>"
            ]
          },
          "metadata": {
            "tags": [],
            "needs_background": "light"
          }
        }
      ]
    }
  ]
}