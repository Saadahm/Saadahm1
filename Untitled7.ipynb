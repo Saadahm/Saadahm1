{
  "nbformat": 4,
  "nbformat_minor": 0,
  "metadata": {
    "colab": {
      "name": "Untitled7.ipynb",
      "provenance": [],
      "authorship_tag": "ABX9TyNALgzLrymChVRvIH4f9tnc",
      "include_colab_link": true
    },
    "kernelspec": {
      "name": "python3",
      "display_name": "Python 3"
    },
    "language_info": {
      "name": "python"
    }
  },
  "cells": [
    {
      "cell_type": "markdown",
      "metadata": {
        "id": "view-in-github",
        "colab_type": "text"
      },
      "source": [
        "<a href=\"https://colab.research.google.com/github/Saadahm/Saadahm1/blob/main/Untitled7.ipynb\" target=\"_parent\"><img src=\"https://colab.research.google.com/assets/colab-badge.svg\" alt=\"Open In Colab\"/></a>"
      ]
    },
    {
      "cell_type": "code",
      "metadata": {
        "id": "KeqGn3h9dyoG"
      },
      "source": [
        "import pandas as pd\n",
        "import numpy as np\n",
        "import matplotlib.pyplot as plt\n",
        "df=pd.read_csv('005930.KS.csv')"
      ],
      "execution_count": 5,
      "outputs": []
    },
    {
      "cell_type": "code",
      "metadata": {
        "colab": {
          "base_uri": "https://localhost:8080/",
          "height": 204
        },
        "id": "TJo0sNapePuy",
        "outputId": "18dbd5c7-5fef-406c-a502-fb2668a6883d"
      },
      "source": [
        "df.head()"
      ],
      "execution_count": 3,
      "outputs": [
        {
          "output_type": "execute_result",
          "data": {
            "text/html": [
              "<div>\n",
              "<style scoped>\n",
              "    .dataframe tbody tr th:only-of-type {\n",
              "        vertical-align: middle;\n",
              "    }\n",
              "\n",
              "    .dataframe tbody tr th {\n",
              "        vertical-align: top;\n",
              "    }\n",
              "\n",
              "    .dataframe thead th {\n",
              "        text-align: right;\n",
              "    }\n",
              "</style>\n",
              "<table border=\"1\" class=\"dataframe\">\n",
              "  <thead>\n",
              "    <tr style=\"text-align: right;\">\n",
              "      <th></th>\n",
              "      <th>Date</th>\n",
              "      <th>Open</th>\n",
              "      <th>High</th>\n",
              "      <th>Low</th>\n",
              "      <th>Close</th>\n",
              "      <th>Adj Close</th>\n",
              "      <th>Volume</th>\n",
              "    </tr>\n",
              "  </thead>\n",
              "  <tbody>\n",
              "    <tr>\n",
              "      <th>0</th>\n",
              "      <td>2011-06-13</td>\n",
              "      <td>16880.0</td>\n",
              "      <td>17460.0</td>\n",
              "      <td>16060.0</td>\n",
              "      <td>16380.0</td>\n",
              "      <td>13452.113281</td>\n",
              "      <td>86986900</td>\n",
              "    </tr>\n",
              "    <tr>\n",
              "      <th>1</th>\n",
              "      <td>2011-06-20</td>\n",
              "      <td>16260.0</td>\n",
              "      <td>17080.0</td>\n",
              "      <td>15900.0</td>\n",
              "      <td>17040.0</td>\n",
              "      <td>13994.144531</td>\n",
              "      <td>96266850</td>\n",
              "    </tr>\n",
              "    <tr>\n",
              "      <th>2</th>\n",
              "      <td>2011-06-27</td>\n",
              "      <td>16940.0</td>\n",
              "      <td>17200.0</td>\n",
              "      <td>16420.0</td>\n",
              "      <td>17100.0</td>\n",
              "      <td>14043.418945</td>\n",
              "      <td>76047550</td>\n",
              "    </tr>\n",
              "    <tr>\n",
              "      <th>3</th>\n",
              "      <td>2011-07-04</td>\n",
              "      <td>17400.0</td>\n",
              "      <td>17980.0</td>\n",
              "      <td>17380.0</td>\n",
              "      <td>17700.0</td>\n",
              "      <td>14544.911133</td>\n",
              "      <td>83693400</td>\n",
              "    </tr>\n",
              "    <tr>\n",
              "      <th>4</th>\n",
              "      <td>2011-07-11</td>\n",
              "      <td>17600.0</td>\n",
              "      <td>17600.0</td>\n",
              "      <td>16420.0</td>\n",
              "      <td>16640.0</td>\n",
              "      <td>13673.856445</td>\n",
              "      <td>78787450</td>\n",
              "    </tr>\n",
              "  </tbody>\n",
              "</table>\n",
              "</div>"
            ],
            "text/plain": [
              "         Date     Open     High      Low    Close     Adj Close    Volume\n",
              "0  2011-06-13  16880.0  17460.0  16060.0  16380.0  13452.113281  86986900\n",
              "1  2011-06-20  16260.0  17080.0  15900.0  17040.0  13994.144531  96266850\n",
              "2  2011-06-27  16940.0  17200.0  16420.0  17100.0  14043.418945  76047550\n",
              "3  2011-07-04  17400.0  17980.0  17380.0  17700.0  14544.911133  83693400\n",
              "4  2011-07-11  17600.0  17600.0  16420.0  16640.0  13673.856445  78787450"
            ]
          },
          "metadata": {
            "tags": []
          },
          "execution_count": 3
        }
      ]
    },
    {
      "cell_type": "code",
      "metadata": {
        "colab": {
          "base_uri": "https://localhost:8080/"
        },
        "id": "iZDT2-ukeRmw",
        "outputId": "00f2edd7-834e-446a-ed3b-b490b18d51be"
      },
      "source": [
        "df.describe"
      ],
      "execution_count": 22,
      "outputs": [
        {
          "output_type": "execute_result",
          "data": {
            "text/plain": [
              "<bound method NDFrame.describe of         Open     High      Low    Close     Adj Close    Volume\n",
              "0    16880.0  17460.0  16060.0  16380.0  13452.113281  86986900\n",
              "1    16260.0  17080.0  15900.0  17040.0  13994.144531  96266850\n",
              "2    16940.0  17200.0  16420.0  17100.0  14043.418945  76047550\n",
              "3    17400.0  17980.0  17380.0  17700.0  14544.911133  83693400\n",
              "4    17600.0  17600.0  16420.0  16640.0  13673.856445  78787450\n",
              "..       ...      ...      ...      ...           ...       ...\n",
              "518  80800.0  81500.0  79100.0  80100.0  80100.000000  72738804\n",
              "519  80100.0  80500.0  79100.0  80100.0  80100.000000  74570676\n",
              "520  80300.0  83000.0  79600.0  82200.0  82200.000000  91452635\n",
              "521  82700.0  82800.0  80700.0  81000.0  81000.000000  75861203\n",
              "522  81200.0  81700.0  80700.0  81000.0  81000.000000  13791983\n",
              "\n",
              "[523 rows x 6 columns]>"
            ]
          },
          "metadata": {
            "tags": []
          },
          "execution_count": 22
        }
      ]
    },
    {
      "cell_type": "code",
      "metadata": {
        "colab": {
          "base_uri": "https://localhost:8080/",
          "height": 204
        },
        "id": "4jiCRKOye_07",
        "outputId": "95556e91-0d40-4e6a-dd6c-18760376b4a7"
      },
      "source": [
        "df.head()"
      ],
      "execution_count": 6,
      "outputs": [
        {
          "output_type": "execute_result",
          "data": {
            "text/html": [
              "<div>\n",
              "<style scoped>\n",
              "    .dataframe tbody tr th:only-of-type {\n",
              "        vertical-align: middle;\n",
              "    }\n",
              "\n",
              "    .dataframe tbody tr th {\n",
              "        vertical-align: top;\n",
              "    }\n",
              "\n",
              "    .dataframe thead th {\n",
              "        text-align: right;\n",
              "    }\n",
              "</style>\n",
              "<table border=\"1\" class=\"dataframe\">\n",
              "  <thead>\n",
              "    <tr style=\"text-align: right;\">\n",
              "      <th></th>\n",
              "      <th>Date</th>\n",
              "      <th>Open</th>\n",
              "      <th>High</th>\n",
              "      <th>Low</th>\n",
              "      <th>Close</th>\n",
              "      <th>Adj Close</th>\n",
              "      <th>Volume</th>\n",
              "    </tr>\n",
              "  </thead>\n",
              "  <tbody>\n",
              "    <tr>\n",
              "      <th>0</th>\n",
              "      <td>2011-06-13</td>\n",
              "      <td>16880.0</td>\n",
              "      <td>17460.0</td>\n",
              "      <td>16060.0</td>\n",
              "      <td>16380.0</td>\n",
              "      <td>13452.113281</td>\n",
              "      <td>86986900</td>\n",
              "    </tr>\n",
              "    <tr>\n",
              "      <th>1</th>\n",
              "      <td>2011-06-20</td>\n",
              "      <td>16260.0</td>\n",
              "      <td>17080.0</td>\n",
              "      <td>15900.0</td>\n",
              "      <td>17040.0</td>\n",
              "      <td>13994.144531</td>\n",
              "      <td>96266850</td>\n",
              "    </tr>\n",
              "    <tr>\n",
              "      <th>2</th>\n",
              "      <td>2011-06-27</td>\n",
              "      <td>16940.0</td>\n",
              "      <td>17200.0</td>\n",
              "      <td>16420.0</td>\n",
              "      <td>17100.0</td>\n",
              "      <td>14043.418945</td>\n",
              "      <td>76047550</td>\n",
              "    </tr>\n",
              "    <tr>\n",
              "      <th>3</th>\n",
              "      <td>2011-07-04</td>\n",
              "      <td>17400.0</td>\n",
              "      <td>17980.0</td>\n",
              "      <td>17380.0</td>\n",
              "      <td>17700.0</td>\n",
              "      <td>14544.911133</td>\n",
              "      <td>83693400</td>\n",
              "    </tr>\n",
              "    <tr>\n",
              "      <th>4</th>\n",
              "      <td>2011-07-11</td>\n",
              "      <td>17600.0</td>\n",
              "      <td>17600.0</td>\n",
              "      <td>16420.0</td>\n",
              "      <td>16640.0</td>\n",
              "      <td>13673.856445</td>\n",
              "      <td>78787450</td>\n",
              "    </tr>\n",
              "  </tbody>\n",
              "</table>\n",
              "</div>"
            ],
            "text/plain": [
              "         Date     Open     High      Low    Close     Adj Close    Volume\n",
              "0  2011-06-13  16880.0  17460.0  16060.0  16380.0  13452.113281  86986900\n",
              "1  2011-06-20  16260.0  17080.0  15900.0  17040.0  13994.144531  96266850\n",
              "2  2011-06-27  16940.0  17200.0  16420.0  17100.0  14043.418945  76047550\n",
              "3  2011-07-04  17400.0  17980.0  17380.0  17700.0  14544.911133  83693400\n",
              "4  2011-07-11  17600.0  17600.0  16420.0  16640.0  13673.856445  78787450"
            ]
          },
          "metadata": {
            "tags": []
          },
          "execution_count": 6
        }
      ]
    },
    {
      "cell_type": "code",
      "metadata": {
        "id": "8yAYcFZ7jrhd"
      },
      "source": [
        "df['Date']=pd.to_datetime(df.Date)\n"
      ],
      "execution_count": 7,
      "outputs": []
    },
    {
      "cell_type": "code",
      "metadata": {
        "id": "fBi5anHuheCJ"
      },
      "source": [
        "df=df.drop(columns=['Date'])"
      ],
      "execution_count": 8,
      "outputs": []
    },
    {
      "cell_type": "code",
      "metadata": {
        "id": "QWBy_t5xf6V9"
      },
      "source": [
        "from sklearn.model_selection import train_test_split\n",
        "from sklearn import metrics\n",
        "from sklearn.metrics import confusion_matrix\n",
        "from sklearn.metrics import f1_score\n",
        "from sklearn.metrics import accuracy_score\n"
      ],
      "execution_count": 9,
      "outputs": []
    },
    {
      "cell_type": "code",
      "metadata": {
        "id": "u0UI9iCEfdHC"
      },
      "source": [
        "x=df.iloc[:,0:df.shape[1]-1].values\n",
        "y=df.iloc[:,df.shape[1]-1].values"
      ],
      "execution_count": 10,
      "outputs": []
    },
    {
      "cell_type": "code",
      "metadata": {
        "id": "N2fL73pLfdOZ"
      },
      "source": [
        "x_train,x_test,y_train,y_test=train_test_split(x,y,test_size=0.2,random_state=0)"
      ],
      "execution_count": 11,
      "outputs": []
    },
    {
      "cell_type": "code",
      "metadata": {
        "id": "g7O7BC3tgWYR"
      },
      "source": [
        "from sklearn.tree import DecisionTreeClassifier"
      ],
      "execution_count": 12,
      "outputs": []
    },
    {
      "cell_type": "code",
      "metadata": {
        "id": "qwi72oBfij2o"
      },
      "source": [
        ""
      ],
      "execution_count": 12,
      "outputs": []
    },
    {
      "cell_type": "code",
      "metadata": {
        "id": "bSmOxafKjegp"
      },
      "source": [
        "clf = DecisionTreeClassifier(random_state=0)"
      ],
      "execution_count": 13,
      "outputs": []
    },
    {
      "cell_type": "code",
      "metadata": {
        "colab": {
          "base_uri": "https://localhost:8080/"
        },
        "id": "Mub5ft2CgCww",
        "outputId": "6aba9db7-b0ab-4f0d-8f2b-43e5c3237c57"
      },
      "source": [
        "clf.fit(x_train,y_train)\n",
        "#data['Date'] = pd.to_numeric(pd.to_datetime(data['Date']))\n"
      ],
      "execution_count": 14,
      "outputs": [
        {
          "output_type": "execute_result",
          "data": {
            "text/plain": [
              "DecisionTreeClassifier(ccp_alpha=0.0, class_weight=None, criterion='gini',\n",
              "                       max_depth=None, max_features=None, max_leaf_nodes=None,\n",
              "                       min_impurity_decrease=0.0, min_impurity_split=None,\n",
              "                       min_samples_leaf=1, min_samples_split=2,\n",
              "                       min_weight_fraction_leaf=0.0, presort='deprecated',\n",
              "                       random_state=0, splitter='best')"
            ]
          },
          "metadata": {
            "tags": []
          },
          "execution_count": 14
        }
      ]
    },
    {
      "cell_type": "code",
      "metadata": {
        "id": "3QuHmnSOKgFZ"
      },
      "source": [
        "y_pred=clf.predict(x_test)"
      ],
      "execution_count": 15,
      "outputs": []
    },
    {
      "cell_type": "code",
      "metadata": {
        "colab": {
          "base_uri": "https://localhost:8080/"
        },
        "id": "7IuTl33gKwYN",
        "outputId": "cf8ec15f-c54e-4aaa-cefe-770f4648d6c9"
      },
      "source": [
        "print(\"Accuracy is: \", metrics.accuracy_score(y_test,y_pred))"
      ],
      "execution_count": 16,
      "outputs": [
        {
          "output_type": "stream",
          "text": [
            "Accuracy is:  0.0\n"
          ],
          "name": "stdout"
        }
      ]
    },
    {
      "cell_type": "code",
      "metadata": {
        "colab": {
          "base_uri": "https://localhost:8080/"
        },
        "id": "PNOkC_o9LA3d",
        "outputId": "dc06bc35-fea8-4b1c-89d1-1a99e9c34a3c"
      },
      "source": [
        "y_pred[0:]"
      ],
      "execution_count": 17,
      "outputs": [
        {
          "output_type": "execute_result",
          "data": {
            "text/plain": [
              "array([ 59548450,  50430850,  53079950,  39237750,  60224950,  60022891,\n",
              "        70390150,  87173510,  39237750,  59422200,  82203050,  67072200,\n",
              "       151499100,  41299700,  65163738, 132134991,  28074700,  59318608,\n",
              "        53730400,  53079950,  59318608,  53147650,  61030800,  67380100,\n",
              "        50332250,  41509508,  70486100,  37092800,  33206600,  46102000,\n",
              "        50965050,  50430850,  38445022,  87173510,  35371663,  62084500,\n",
              "       100449312,  57963050,  58257850,  72061150, 145674450,  49842750,\n",
              "        82203050,  45749403,  36772250,  57611750,  65111052,  63487750,\n",
              "        36061350,  45068400,  53927668,  63487750,  86988349,  37092800,\n",
              "        98695931, 120397243, 120397243,  89733350,  46852750, 100449312,\n",
              "        34428115,  81670691,  84719400,  53187900,  45749403,  75861203,\n",
              "        59548450,  55727850,  88876100,  74031877,  58080900,  64250700,\n",
              "        33206600,  53079950,  63993050,  54282950,  70390150,  60022891,\n",
              "        46665300,  75839200, 202264800,  97783702,  62084500,  84294500,\n",
              "        46835737,  49559700,  72359900,  53034822,  73358085,  60290400,\n",
              "        73358085,  53730400,  65912471,  89105900,  71449100,  59445279,\n",
              "        72670400,  88586461,  54021250, 108933650,  98237614, 151499100,\n",
              "        66752950,  39237750,  85090869])"
            ]
          },
          "metadata": {
            "tags": []
          },
          "execution_count": 17
        }
      ]
    },
    {
      "cell_type": "code",
      "metadata": {
        "colab": {
          "base_uri": "https://localhost:8080/"
        },
        "id": "FfSw0NVqLN0_",
        "outputId": "6236567c-c664-49ae-dc30-f2c63e79ef96"
      },
      "source": [
        "print(clf.score(x_test,y_test))"
      ],
      "execution_count": 20,
      "outputs": [
        {
          "output_type": "stream",
          "text": [
            "0.0\n"
          ],
          "name": "stdout"
        }
      ]
    },
    {
      "cell_type": "code",
      "metadata": {
        "colab": {
          "base_uri": "https://localhost:8080/"
        },
        "id": "EhCd__faLdk3",
        "outputId": "3b7bdc95-a2c6-44d3-d255-7375688dbcf3"
      },
      "source": [
        "tree_predictions=clf.predict(x_test)\n",
        "print(tree_predictions)"
      ],
      "execution_count": 21,
      "outputs": [
        {
          "output_type": "stream",
          "text": [
            "[ 59548450  50430850  53079950  39237750  60224950  60022891  70390150\n",
            "  87173510  39237750  59422200  82203050  67072200 151499100  41299700\n",
            "  65163738 132134991  28074700  59318608  53730400  53079950  59318608\n",
            "  53147650  61030800  67380100  50332250  41509508  70486100  37092800\n",
            "  33206600  46102000  50965050  50430850  38445022  87173510  35371663\n",
            "  62084500 100449312  57963050  58257850  72061150 145674450  49842750\n",
            "  82203050  45749403  36772250  57611750  65111052  63487750  36061350\n",
            "  45068400  53927668  63487750  86988349  37092800  98695931 120397243\n",
            " 120397243  89733350  46852750 100449312  34428115  81670691  84719400\n",
            "  53187900  45749403  75861203  59548450  55727850  88876100  74031877\n",
            "  58080900  64250700  33206600  53079950  63993050  54282950  70390150\n",
            "  60022891  46665300  75839200 202264800  97783702  62084500  84294500\n",
            "  46835737  49559700  72359900  53034822  73358085  60290400  73358085\n",
            "  53730400  65912471  89105900  71449100  59445279  72670400  88586461\n",
            "  54021250 108933650  98237614 151499100  66752950  39237750  85090869]\n"
          ],
          "name": "stdout"
        }
      ]
    }
  ]
}